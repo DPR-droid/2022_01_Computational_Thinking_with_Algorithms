{
 "cells": [
  {
   "cell_type": "markdown",
   "metadata": {},
   "source": [
    "Write a method which takes in a string and returns the reverse of that string with a \"|\" character between each internal character. For example 'dominic' would become 'c|i|n|i|m|o|d\".\n",
    "\n",
    "This must be achieved through the use of recursion. The solutions will be checked for the use of recursion, and will be awarded 0 if there is no recursion.\n",
    "\n",
    "For example:\n",
    "\n",
    "Test\tResult\n",
    "dominic\n",
    "c|i|n|i|m|o|d\n",
    "GMIT\n",
    "T|I|M|G\n",
    "recursion is hard\n",
    "d|r|a|h| |s|i| |n|o|i|s|r|u|c|e|r\n"
   ]
  },
  {
   "cell_type": "code",
   "execution_count": 65,
   "metadata": {},
   "outputs": [],
   "source": [
    "##############################################################################\n",
    "# CTA-Practice Homework 2.ipynb\n",
    "# Questions should be solved using recursion\n",
    "# Author David\n",
    "##############################################################################\n",
    "\n",
    "\n",
    "##############################################################################\")\n",
    "# 1. Write an algorithm that returns the reverse of a given string.\")\n",
    "##############################################################################\")\n",
    "\n",
    "def reverse(str):\n",
    "    if len(str) == 0:\n",
    "        return str\n",
    "    elif len(str) != 1:\n",
    "        recurstring = reverse(str[1:]) + \"|\" + str[0] \n",
    "    else:\n",
    "        recurstring = reverse(str[1:]) +  str[0] \n",
    "    return recurstring\n",
    "\n",
    "    \n"
   ]
  },
  {
   "cell_type": "code",
   "execution_count": 66,
   "metadata": {},
   "outputs": [
    {
     "data": {
      "text/plain": [
       "'o|l|l|e|H'"
      ]
     },
     "execution_count": 66,
     "metadata": {},
     "output_type": "execute_result"
    }
   ],
   "source": [
    "reverse(\"Hello\")"
   ]
  },
  {
   "cell_type": "markdown",
   "metadata": {},
   "source": [
    "Write a method which takes in a string and returns an array of each successive sub-string of length 3. For example \"We are in isolation\" would yield ['We ', 'are', ' in', ' is', 'ola', 'tio']. The part at the end which is not of length 3 is cut off (in this case the last character 'n').\n",
    "\n",
    "You must use recursion.\n",
    "\n",
    "For example:\n",
    "\n",
    "Test\tResult\n",
    "We are in isolation\n",
    "['We ', 'are', ' in', ' is', 'ola', 'tio']\n",
    "cinimod\n",
    "['cin', 'imo']\n",
    "Follow the process\n",
    "['Fol', 'low', ' th', 'e p', 'roc', 'ess']\n",
    "Answer:(penalty regime: 10, 20, ... %)"
   ]
  },
  {
   "cell_type": "code",
   "execution_count": 145,
   "metadata": {},
   "outputs": [],
   "source": [
    "def substrings(string):\n",
    "    if len(string) <= 3:\n",
    "        return [string]\n",
    "    else:\n",
    "        start = string[:3]\n",
    "        end = string[3:]\n",
    "        newstring = [start]  + substrings(end)\n",
    "    return newstring"
   ]
  },
  {
   "cell_type": "code",
   "execution_count": 146,
   "metadata": {},
   "outputs": [
    {
     "data": {
      "text/plain": [
       "['We ', 'are', ' in', ' is', 'ola', 'tio', 'n']"
      ]
     },
     "execution_count": 146,
     "metadata": {},
     "output_type": "execute_result"
    }
   ],
   "source": [
    "substrings(\"We are in isolation\")"
   ]
  },
  {
   "cell_type": "code",
   "execution_count": 18,
   "metadata": {},
   "outputs": [],
   "source": [
    "##############################################################################\")\n",
    "# 2. Write an algorithm that reverses an array in-place (i.e changes \")\n",
    "# what is stored at each # index), assume the input array contains numbers.\")\n",
    "##############################################################################\")\n",
    "def reverse_array(array):\n",
    "\n",
    "    if len(array) == 0: \n",
    "        return array\n",
    "    recur_array = [array[len(array) - 1]] + reverse_array(array[:len(array) - 1])\n",
    "    return recur_array"
   ]
  },
  {
   "cell_type": "code",
   "execution_count": 19,
   "metadata": {},
   "outputs": [
    {
     "data": {
      "text/plain": [
       "[4, 3, 2, 1]"
      ]
     },
     "execution_count": 19,
     "metadata": {},
     "output_type": "execute_result"
    }
   ],
   "source": [
    "reverse_array([1, 2, 3, 4])"
   ]
  },
  {
   "cell_type": "code",
   "execution_count": 20,
   "metadata": {},
   "outputs": [],
   "source": [
    "##############################################################################\")\n",
    "#3. Write an algorithm that checks whether an element occurs in an array, \")\n",
    "# assume unsorted.\")\n",
    "##############################################################################\")\n",
    "def search(Q3array, num, lenarray):\n",
    "    if Q3array[lenarray] == num:\n",
    "        return True\n",
    "    elif lenarray == 0:\n",
    "        return False\n",
    "    else:\n",
    "        find = search(Q3array, num, lenarray - 1)\n",
    "        return find"
   ]
  },
  {
   "cell_type": "code",
   "execution_count": 21,
   "metadata": {},
   "outputs": [
    {
     "data": {
      "text/plain": [
       "True"
      ]
     },
     "execution_count": 21,
     "metadata": {},
     "output_type": "execute_result"
    }
   ],
   "source": [
    "search([9,2,4,3,7,10], 3, 5)"
   ]
  },
  {
   "cell_type": "code",
   "execution_count": 22,
   "metadata": {},
   "outputs": [],
   "source": [
    "##############################################################################\")\n",
    "# 4. Write an algorithm that computes the sum of an array of numbers\")\n",
    "##############################################################################\")\n",
    "\n",
    "def sumarray(Q4array,Q4lenarray):\n",
    "   if (Q4lenarray == 0):\n",
    "     return 0\n",
    "   else:\n",
    "    sum_array = Q4array[Q4lenarray-1] + sumarray(Q4array, Q4lenarray -1)\n",
    "    return sum_array"
   ]
  },
  {
   "cell_type": "code",
   "execution_count": 23,
   "metadata": {},
   "outputs": [
    {
     "data": {
      "text/plain": [
       "60"
      ]
     },
     "execution_count": 23,
     "metadata": {},
     "output_type": "execute_result"
    }
   ],
   "source": [
    "sumarray([5,10,3,12,30],5)"
   ]
  },
  {
   "cell_type": "code",
   "execution_count": 24,
   "metadata": {},
   "outputs": [],
   "source": [
    "##############################################################################\")\n",
    "# 5.Write an algorithm to produce calculate the Nth number in the Fibonacci sequence.\")\n",
    "# Assume the sequence begins 0,1,1,2....\")\n",
    "##############################################################################\")\n",
    "def fibonacci_of(n):\n",
    "    if n in {0, 1}:  \n",
    "        return n\n",
    "    sum_Feb = fibonacci_of(n - 1) + fibonacci_of(n - 2) \n",
    "    return sum_Feb"
   ]
  },
  {
   "cell_type": "code",
   "execution_count": 25,
   "metadata": {},
   "outputs": [
    {
     "name": "stdout",
     "output_type": "stream",
     "text": [
      "0\n",
      "1\n",
      "1\n",
      "2\n",
      "3\n",
      "5\n",
      "8\n",
      "13\n",
      "21\n",
      "34\n",
      "55\n",
      "89\n",
      "144\n",
      "233\n",
      "377\n"
     ]
    }
   ],
   "source": [
    "for n in range(15):\n",
    "    febprint = fibonacci_of(n)\n",
    "    print(febprint)"
   ]
  },
  {
   "cell_type": "code",
   "execution_count": 26,
   "metadata": {},
   "outputs": [],
   "source": [
    "##############################################################################\")\n",
    "# 6. Write a recursive function that checks whether a string is a palindrome (a palindrome\")\n",
    "# is a string that’s the same when reads forwards and backwards.)\")\n",
    "##############################################################################\")\n",
    "\n",
    "def palindrome(Q6string):\n",
    "    if len(Q6string) < 2:  \n",
    "        return True\n",
    "    else:\n",
    "        sum_array = Q6string[0] == Q6string[-1] and palindrome(Q6string[1:-1])\n",
    "        return sum_array"
   ]
  },
  {
   "cell_type": "code",
   "execution_count": 27,
   "metadata": {},
   "outputs": [
    {
     "data": {
      "text/plain": [
       "True"
      ]
     },
     "execution_count": 27,
     "metadata": {},
     "output_type": "execute_result"
    }
   ],
   "source": [
    "palindrome(\"radar\")"
   ]
  },
  {
   "cell_type": "code",
   "execution_count": 28,
   "metadata": {},
   "outputs": [],
   "source": [
    "##############################################################################\")\n",
    "# 7. Given a number and a power, compute the result of the number raised to that power.\")\n",
    "# For example 23 = 8.\")\n",
    "##############################################################################\")\n",
    "def power(num, exponent):\n",
    "  if exponent == 0 :\n",
    "    return 1\n",
    "  else :\n",
    "    return num * power(num, exponent - 1)\n",
    "\n",
    "num = 3\n",
    "exponent =  2"
   ]
  },
  {
   "cell_type": "code",
   "execution_count": 29,
   "metadata": {},
   "outputs": [
    {
     "data": {
      "text/plain": [
       "8"
      ]
     },
     "execution_count": 29,
     "metadata": {},
     "output_type": "execute_result"
    }
   ],
   "source": [
    "power(2, 3)"
   ]
  },
  {
   "cell_type": "code",
   "execution_count": 71,
   "metadata": {},
   "outputs": [],
   "source": [
    "##############################################################################\")\n",
    "# 8. Given a string and a substring, compute how many times that substring appears in\")\n",
    "# the string. For example “he” appears twice in the string “her and herself”.\")\n",
    "##############################################################################\")\n",
    "\n",
    "def SubstrCount(str1, str2):\n",
    "\n",
    "    n1 = len(str1)\n",
    "    n2 = len(str2)\n",
    "    if (n1 == 0 or n1 < n2):\n",
    "        return False\n",
    " \n",
    "    if (str1[0 : n2] == str2):\n",
    "        return SubstrCount(str1[n2 - 1:], str2) + 1 \n",
    "    return SubstrCount(str1[n2 - 1:], str2)"
   ]
  },
  {
   "cell_type": "code",
   "execution_count": 72,
   "metadata": {},
   "outputs": [
    {
     "data": {
      "text/plain": [
       "2"
      ]
     },
     "execution_count": 72,
     "metadata": {},
     "output_type": "execute_result"
    }
   ],
   "source": [
    "str1 = \"her and herself\"\n",
    "str2 = \"he\"\n",
    "\n",
    "SubstrCount(str1, str2)\n"
   ]
  },
  {
   "cell_type": "markdown",
   "metadata": {},
   "source": [
    "Write a method which produces a new string which is the merge of both strings. For example the strings \"dmnc\" and \"oii\" would merge to become \"dominic\". The basic step is to combine the current character from the first and second strings together in that order, so first that would be 'd' and 'o', then 'm' and 'i'.\n",
    "\n",
    "The second string will always be shorter and when we are finished with it the remainder of the first string will be the last part of our new string.\n",
    "\n",
    "\n",
    "\n",
    "This must be done using recursion.\n",
    "\n",
    "For example:\n",
    "\n",
    "Test\tInput\tResult\n",
    "dmnc\n",
    "oii\n",
    "dominic\n",
    "what is love\n",
    "LOL\n",
    "wLhOaLt is love\n"
   ]
  },
  {
   "cell_type": "code",
   "execution_count": 161,
   "metadata": {},
   "outputs": [],
   "source": [
    "def merge(string, string2):\n",
    "    n1 = len(string)\n",
    "    n2 = len(string2)\n",
    "    if (n1 == 0 or n1 < n2):\n",
    "        return False\n",
    "    else:\n",
    "        return string[1:] + string2[1:]\n"
   ]
  },
  {
   "cell_type": "code",
   "execution_count": 162,
   "metadata": {},
   "outputs": [
    {
     "data": {
      "text/plain": [
       "'mncii'"
      ]
     },
     "execution_count": 162,
     "metadata": {},
     "output_type": "execute_result"
    }
   ],
   "source": [
    "string = \"dmnc\"\n",
    "string2 = \"oii\"\n",
    "\n",
    "merge(string, string2)\n"
   ]
  }
 ],
 "metadata": {
  "interpreter": {
   "hash": "b3ba2566441a7c06988d0923437866b63cedc61552a5af99d1f4fb67d367b25f"
  },
  "kernelspec": {
   "display_name": "Python 3.8.8 ('base')",
   "language": "python",
   "name": "python3"
  },
  "language_info": {
   "codemirror_mode": {
    "name": "ipython",
    "version": 3
   },
   "file_extension": ".py",
   "mimetype": "text/x-python",
   "name": "python",
   "nbconvert_exporter": "python",
   "pygments_lexer": "ipython3",
   "version": "3.8.8"
  },
  "orig_nbformat": 4
 },
 "nbformat": 4,
 "nbformat_minor": 2
}
