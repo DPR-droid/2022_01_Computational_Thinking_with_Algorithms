{
 "cells": [
  {
   "cell_type": "code",
   "execution_count": 1,
   "metadata": {},
   "outputs": [],
   "source": [
    "import time\n",
    "from numpy import random\n",
    "import pandas as pd\n",
    "\n",
    "import warnings\n",
    "warnings.filterwarnings('ignore')\n",
    "\n"
   ]
  },
  {
   "cell_type": "code",
   "execution_count": 2,
   "metadata": {},
   "outputs": [],
   "source": [
    "\n",
    "# https://www.geeksforgeeks.org/python-program-for-bubble-sort/\n",
    "# Bubble Sort\n",
    "def bubblesort(elements):\n",
    "  # Looping n-1 times\n",
    "  for n in range(len(elements)-1, 0, -1):\n",
    "    # Loop is short 1 each time as the other eleement is sorted\n",
    "    for i in range(n):\n",
    "      # Comparing each element  with the element beside \n",
    "      if elements[i] > elements[i + 1]:\n",
    "        # Swapping out of order with the largest element to the right\n",
    "        elements[i], elements[i + 1] = elements[i + 1], elements[i]\n",
    "  return elements\n",
    "  "
   ]
  },
  {
   "cell_type": "code",
   "execution_count": 3,
   "metadata": {},
   "outputs": [],
   "source": [
    "# Computational Thinking with Algorithms - Week 8 - Sorting Algorithms Part 2\n",
    "# https://runestone.academy/ns/books/published/pythonds3/SortSearch/TheSelectionSort.html\n",
    "# Selection Sort\n",
    "\n",
    "def selection_sort(arr):\n",
    "    n = len(arr)\n",
    "    for outer in range(0,n,1):\n",
    "        min = outer\n",
    "        #print(f\"outer is {outer}\")\n",
    "        for inner in range(outer+1,n,1):\n",
    "            if arr[inner] < arr[min]:\n",
    "                min = inner\n",
    "                \n",
    "        #print(f\"min is {min}\")\n",
    "        #print(f\"swapping {arr[outer]} and {arr[min]}\")\n",
    "        temp = arr[outer]\n",
    "        arr[outer] = arr[min]\n",
    "        arr[min] = temp"
   ]
  },
  {
   "cell_type": "code",
   "execution_count": 4,
   "metadata": {},
   "outputs": [],
   "source": [
    "# 6.9. The Insertion Sort\n",
    "# https://runestone.academy/ns/books/published/pythonds3/SortSearch/TheInsertionSort.html\n",
    "\n",
    "def insertion_sort(a_list):\n",
    "    for i in range(1, len(a_list)):\n",
    "        cur_val = a_list[i]\n",
    "        cur_pos = i\n",
    "\n",
    "        while cur_pos > 0 and a_list[cur_pos - 1] > cur_val:\n",
    "            a_list[cur_pos] = a_list[cur_pos - 1]\n",
    "            cur_pos = cur_pos - 1\n",
    "        a_list[cur_pos] = cur_val"
   ]
  },
  {
   "cell_type": "code",
   "execution_count": 5,
   "metadata": {},
   "outputs": [],
   "source": [
    "# https://www.geeksforgeeks.org/iterative-merge-sort/\n",
    "# Recursive Python Program for merge sort\n",
    " \n",
    "def merge(left, right):\n",
    "    if not len(left) or not len(right):\n",
    "        return left or right\n",
    " \n",
    "    result = []\n",
    "    i, j = 0, 0\n",
    "    while (len(result) < len(left) + len(right)):\n",
    "        if left[i] < right[j]:\n",
    "            result.append(left[i])\n",
    "            i+= 1\n",
    "        else:\n",
    "            result.append(right[j])\n",
    "            j+= 1\n",
    "        if i == len(left) or j == len(right):\n",
    "            result.extend(left[i:] or right[j:])\n",
    "            break\n",
    " \n",
    "    return result\n",
    " \n",
    "def mergesort(list):\n",
    "    if len(list) < 2:\n",
    "        return list\n",
    " \n",
    "    middle = int(len(list)/2)\n",
    "    left = mergesort(list[:middle])\n",
    "    right = mergesort(list[middle:])\n",
    " \n",
    "    return merge(left, right)"
   ]
  },
  {
   "cell_type": "code",
   "execution_count": 6,
   "metadata": {},
   "outputs": [],
   "source": [
    "#Nsizes = [100,250,500,750,1000,1250,2500]\n",
    "Nsizes = [100,250,500,750]\n",
    "\n",
    "algos = [bubblesort, selection_sort, insertion_sort, mergesort]\n",
    "\n",
    "algorythm = algos[0]\n",
    "\n",
    "#print(type(algorythm))\n",
    "\n"
   ]
  },
  {
   "cell_type": "code",
   "execution_count": 7,
   "metadata": {},
   "outputs": [],
   "source": [
    "# Create a timer using a while loop\n",
    "# Extracted from CTA Project Specification\n",
    "def timer(x,y):\n",
    "    i = 0\n",
    "    totaltime = 0\n",
    "    #algorythm = algos[0]\n",
    "    getarray = random.randint(100, size=(x))\n",
    "    # Begin 10 runs for algorithm\n",
    "    while i < 10:\n",
    "        start_time = time.time()\n",
    "        # call your function\n",
    "\n",
    "        y(getarray)\n",
    "        \n",
    "        # print(\"##############################\\n\")\n",
    "        end_time = time.time()\n",
    "        \n",
    "        time_elapsed = end_time - start_time\n",
    "        # print(\"##############################\\n\")\n",
    "        #print(\"Time Difference : \" + str(time_elapsed))\n",
    "        \n",
    "        totaltime = totaltime + time_elapsed\n",
    "        #print(\"Adding time Difference : \" + str(totaltime))\n",
    "        i = i + 1\n",
    "        #print(\"Pass number: \" + str(i))\n",
    "        # return time_elapsed\n",
    "    # print(\"Total time: \" + str(round(totaltime, 3)) + \" \" + str(x))\n",
    "    getavgtime = totaltime/10\n",
    "    print(str(getavgtime))\n",
    "    #algotimed = str(round(getavgtime, 3))\n",
    "    #print(\"Average time Decimal place: \" + str(y.__name__) + \" \" + algotimed + \" with an array lenght \" + str(x))\n",
    "    \n",
    "    return getavgtime"
   ]
  },
  {
   "cell_type": "code",
   "execution_count": 8,
   "metadata": {},
   "outputs": [],
   "source": [
    "a_dict = {}"
   ]
  },
  {
   "cell_type": "code",
   "execution_count": 10,
   "metadata": {},
   "outputs": [
    {
     "name": "stdout",
     "output_type": "stream",
     "text": [
      "0.0015086650848388672\n",
      "bubblesort 0.0015086650848388672  100\n",
      "0.001199960708618164\n",
      "selection_sort 0.001199960708618164  100\n",
      "9.982585906982422e-05\n",
      "insertion_sort 9.982585906982422e-05  100\n",
      "0.000500178337097168\n",
      "mergesort 0.000500178337097168  100\n",
      "0.008599948883056641\n",
      "bubblesort 0.008599948883056641  250\n",
      "0.007300257682800293\n",
      "selection_sort 0.007300257682800293  250\n",
      "0.0007995843887329101\n",
      "insertion_sort 0.0007995843887329101  250\n",
      "0.0013003826141357421\n",
      "mergesort 0.0013003826141357421  250\n",
      "0.033829760551452634\n",
      "bubblesort 0.033829760551452634  500\n",
      "0.029299497604370117\n",
      "selection_sort 0.029299497604370117  500\n",
      "0.002799534797668457\n",
      "insertion_sort 0.002799534797668457  500\n",
      "0.0025014877319335938\n",
      "mergesort 0.0025014877319335938  500\n",
      "0.07640931606292725\n",
      "bubblesort 0.07640931606292725  750\n",
      "0.06571388244628906\n",
      "selection_sort 0.06571388244628906  750\n",
      "0.005800390243530273\n",
      "insertion_sort 0.005800390243530273  750\n",
      "0.004499459266662597\n",
      "mergesort 0.004499459266662597  750\n",
      "0.1410979986190796\n",
      "bubblesort 0.1410979986190796  1000\n",
      "0.11491556167602539\n",
      "selection_sort 0.11491556167602539  1000\n",
      "0.011924028396606445\n",
      "insertion_sort 0.011924028396606445  1000\n",
      "0.0059550762176513675\n",
      "mergesort 0.0059550762176513675  1000\n",
      "0.21073672771453858\n",
      "bubblesort 0.21073672771453858  1250\n",
      "0.182252836227417\n",
      "selection_sort 0.182252836227417  1250\n",
      "0.018317437171936034\n",
      "insertion_sort 0.018317437171936034  1250\n",
      "0.007600188255310059\n",
      "mergesort 0.007600188255310059  1250\n",
      "0.8608339309692383\n",
      "bubblesort 0.8608339309692383  2500\n",
      "0.7330337524414062\n",
      "selection_sort 0.7330337524414062  2500\n",
      "0.08863193988800049\n",
      "insertion_sort 0.08863193988800049  2500\n",
      "0.016428041458129882\n",
      "mergesort 0.016428041458129882  2500\n",
      "{100: [0.0015086650848388672, 0.001199960708618164, 9.982585906982422e-05, 0.000500178337097168], 250: [0.008599948883056641, 0.007300257682800293, 0.0007995843887329101, 0.0013003826141357421], 500: [0.033829760551452634, 0.029299497604370117, 0.002799534797668457, 0.0025014877319335938], 750: [0.07640931606292725, 0.06571388244628906, 0.005800390243530273, 0.004499459266662597], 1000: [0.1410979986190796, 0.11491556167602539, 0.011924028396606445, 0.0059550762176513675], 1250: [0.21073672771453858, 0.182252836227417, 0.018317437171936034, 0.007600188255310059], 2500: [0.8608339309692383, 0.7330337524414062, 0.08863193988800049, 0.016428041458129882]}\n"
     ]
    }
   ],
   "source": [
    "# https://www.oreilly.com/library/view/python-cookbook/0596001673/ch01s15.html\n",
    "for x, y in [(x,y) for x in Nsizes for y in algos]:\n",
    "    #print(timer(x,y))\n",
    "    \n",
    "    timed = timer(x,y)\n",
    "    print(str(y.__name__) + \" \" + str(timed) + \"  \" + str(x))\n",
    "\n",
    "    if x in a_dict:\n",
    "        a_dict[x].append(timed)\n",
    "    else:\n",
    "        a_dict[x] = [timed]\n",
    "\n",
    "    \n",
    "\n",
    "print(a_dict)\n"
   ]
  },
  {
   "cell_type": "code",
   "execution_count": 11,
   "metadata": {},
   "outputs": [
    {
     "name": "stdout",
     "output_type": "stream",
     "text": [
      "[0.0015086650848388672, 0.001199960708618164, 9.982585906982422e-05, 0.000500178337097168]\n"
     ]
    }
   ],
   "source": [
    "print(a_dict[100])"
   ]
  },
  {
   "cell_type": "code",
   "execution_count": 12,
   "metadata": {},
   "outputs": [
    {
     "data": {
      "text/html": [
       "<div>\n",
       "<style scoped>\n",
       "    .dataframe tbody tr th:only-of-type {\n",
       "        vertical-align: middle;\n",
       "    }\n",
       "\n",
       "    .dataframe tbody tr th {\n",
       "        vertical-align: top;\n",
       "    }\n",
       "\n",
       "    .dataframe thead th {\n",
       "        text-align: right;\n",
       "    }\n",
       "</style>\n",
       "<table border=\"1\" class=\"dataframe\">\n",
       "  <thead>\n",
       "    <tr style=\"text-align: right;\">\n",
       "      <th></th>\n",
       "    </tr>\n",
       "  </thead>\n",
       "  <tbody>\n",
       "  </tbody>\n",
       "</table>\n",
       "</div>"
      ],
      "text/plain": [
       "Empty DataFrame\n",
       "Columns: []\n",
       "Index: []"
      ]
     },
     "execution_count": 12,
     "metadata": {},
     "output_type": "execute_result"
    }
   ],
   "source": [
    "data = []\n",
    "df = pd.DataFrame(data)\n",
    "df"
   ]
  },
  {
   "cell_type": "code",
   "execution_count": 13,
   "metadata": {},
   "outputs": [],
   "source": [
    "for x in Nsizes:\n",
    "    insert = a_dict[x]\n",
    "    df[x] = insert\n",
    "\n"
   ]
  },
  {
   "cell_type": "code",
   "execution_count": 15,
   "metadata": {},
   "outputs": [
    {
     "data": {
      "text/plain": [
       "100     float64\n",
       "250     float64\n",
       "500     float64\n",
       "750     float64\n",
       "1000    float64\n",
       "1250    float64\n",
       "2500    float64\n",
       "dtype: object"
      ]
     },
     "execution_count": 15,
     "metadata": {},
     "output_type": "execute_result"
    }
   ],
   "source": [
    "df.dtypes"
   ]
  },
  {
   "cell_type": "code",
   "execution_count": 24,
   "metadata": {},
   "outputs": [
    {
     "data": {
      "text/html": [
       "<div>\n",
       "<style scoped>\n",
       "    .dataframe tbody tr th:only-of-type {\n",
       "        vertical-align: middle;\n",
       "    }\n",
       "\n",
       "    .dataframe tbody tr th {\n",
       "        vertical-align: top;\n",
       "    }\n",
       "\n",
       "    .dataframe thead th {\n",
       "        text-align: right;\n",
       "    }\n",
       "</style>\n",
       "<table border=\"1\" class=\"dataframe\">\n",
       "  <thead>\n",
       "    <tr style=\"text-align: right;\">\n",
       "      <th></th>\n",
       "      <th>100</th>\n",
       "      <th>250</th>\n",
       "      <th>500</th>\n",
       "      <th>750</th>\n",
       "      <th>1000</th>\n",
       "      <th>1250</th>\n",
       "      <th>2500</th>\n",
       "    </tr>\n",
       "  </thead>\n",
       "  <tbody>\n",
       "    <tr>\n",
       "      <th>0</th>\n",
       "      <td>0.001509</td>\n",
       "      <td>0.0086</td>\n",
       "      <td>0.033830</td>\n",
       "      <td>0.076409</td>\n",
       "      <td>0.141098</td>\n",
       "      <td>0.210737</td>\n",
       "      <td>0.860834</td>\n",
       "    </tr>\n",
       "    <tr>\n",
       "      <th>1</th>\n",
       "      <td>0.001200</td>\n",
       "      <td>0.0073</td>\n",
       "      <td>0.029299</td>\n",
       "      <td>0.065714</td>\n",
       "      <td>0.114916</td>\n",
       "      <td>0.182253</td>\n",
       "      <td>0.733034</td>\n",
       "    </tr>\n",
       "    <tr>\n",
       "      <th>2</th>\n",
       "      <td>0.000100</td>\n",
       "      <td>0.0008</td>\n",
       "      <td>0.002800</td>\n",
       "      <td>0.005800</td>\n",
       "      <td>0.011924</td>\n",
       "      <td>0.018317</td>\n",
       "      <td>0.088632</td>\n",
       "    </tr>\n",
       "    <tr>\n",
       "      <th>3</th>\n",
       "      <td>0.000500</td>\n",
       "      <td>0.0013</td>\n",
       "      <td>0.002501</td>\n",
       "      <td>0.004499</td>\n",
       "      <td>0.005955</td>\n",
       "      <td>0.007600</td>\n",
       "      <td>0.016428</td>\n",
       "    </tr>\n",
       "  </tbody>\n",
       "</table>\n",
       "</div>"
      ],
      "text/plain": [
       "       100     250       500       750       1000      1250      2500\n",
       "0  0.001509  0.0086  0.033830  0.076409  0.141098  0.210737  0.860834\n",
       "1  0.001200  0.0073  0.029299  0.065714  0.114916  0.182253  0.733034\n",
       "2  0.000100  0.0008  0.002800  0.005800  0.011924  0.018317  0.088632\n",
       "3  0.000500  0.0013  0.002501  0.004499  0.005955  0.007600  0.016428"
      ]
     },
     "execution_count": 24,
     "metadata": {},
     "output_type": "execute_result"
    }
   ],
   "source": [
    "df"
   ]
  },
  {
   "cell_type": "code",
   "execution_count": 25,
   "metadata": {},
   "outputs": [
    {
     "data": {
      "text/html": [
       "<div>\n",
       "<style scoped>\n",
       "    .dataframe tbody tr th:only-of-type {\n",
       "        vertical-align: middle;\n",
       "    }\n",
       "\n",
       "    .dataframe tbody tr th {\n",
       "        vertical-align: top;\n",
       "    }\n",
       "\n",
       "    .dataframe thead th {\n",
       "        text-align: right;\n",
       "    }\n",
       "</style>\n",
       "<table border=\"1\" class=\"dataframe\">\n",
       "  <thead>\n",
       "    <tr style=\"text-align: right;\">\n",
       "      <th></th>\n",
       "      <th>100</th>\n",
       "      <th>250</th>\n",
       "      <th>500</th>\n",
       "      <th>750</th>\n",
       "      <th>1000</th>\n",
       "      <th>1250</th>\n",
       "      <th>2500</th>\n",
       "    </tr>\n",
       "  </thead>\n",
       "  <tbody>\n",
       "    <tr>\n",
       "      <th>0</th>\n",
       "      <td>0.002</td>\n",
       "      <td>0.009</td>\n",
       "      <td>0.034</td>\n",
       "      <td>0.076</td>\n",
       "      <td>0.141</td>\n",
       "      <td>0.211</td>\n",
       "      <td>0.861</td>\n",
       "    </tr>\n",
       "    <tr>\n",
       "      <th>1</th>\n",
       "      <td>0.001</td>\n",
       "      <td>0.007</td>\n",
       "      <td>0.029</td>\n",
       "      <td>0.066</td>\n",
       "      <td>0.115</td>\n",
       "      <td>0.182</td>\n",
       "      <td>0.733</td>\n",
       "    </tr>\n",
       "    <tr>\n",
       "      <th>2</th>\n",
       "      <td>0.000</td>\n",
       "      <td>0.001</td>\n",
       "      <td>0.003</td>\n",
       "      <td>0.006</td>\n",
       "      <td>0.012</td>\n",
       "      <td>0.018</td>\n",
       "      <td>0.089</td>\n",
       "    </tr>\n",
       "    <tr>\n",
       "      <th>3</th>\n",
       "      <td>0.001</td>\n",
       "      <td>0.001</td>\n",
       "      <td>0.003</td>\n",
       "      <td>0.004</td>\n",
       "      <td>0.006</td>\n",
       "      <td>0.008</td>\n",
       "      <td>0.016</td>\n",
       "    </tr>\n",
       "  </tbody>\n",
       "</table>\n",
       "</div>"
      ],
      "text/plain": [
       "    100    250    500    750    1000   1250   2500\n",
       "0  0.002  0.009  0.034  0.076  0.141  0.211  0.861\n",
       "1  0.001  0.007  0.029  0.066  0.115  0.182  0.733\n",
       "2  0.000  0.001  0.003  0.006  0.012  0.018  0.089\n",
       "3  0.001  0.001  0.003  0.004  0.006  0.008  0.016"
      ]
     },
     "execution_count": 25,
     "metadata": {},
     "output_type": "execute_result"
    }
   ],
   "source": [
    "df2 = df.round(3)\n",
    "df2"
   ]
  },
  {
   "cell_type": "code",
   "execution_count": 27,
   "metadata": {},
   "outputs": [],
   "source": [
    "df2.insert(0, \"Size\", ['Bubble Sort', 'Selection Sort', 'Insertion Sort', 'Merge Sort'], True)"
   ]
  },
  {
   "cell_type": "code",
   "execution_count": 28,
   "metadata": {},
   "outputs": [
    {
     "data": {
      "text/html": [
       "<div>\n",
       "<style scoped>\n",
       "    .dataframe tbody tr th:only-of-type {\n",
       "        vertical-align: middle;\n",
       "    }\n",
       "\n",
       "    .dataframe tbody tr th {\n",
       "        vertical-align: top;\n",
       "    }\n",
       "\n",
       "    .dataframe thead th {\n",
       "        text-align: right;\n",
       "    }\n",
       "</style>\n",
       "<table border=\"1\" class=\"dataframe\">\n",
       "  <thead>\n",
       "    <tr style=\"text-align: right;\">\n",
       "      <th></th>\n",
       "      <th>Size</th>\n",
       "      <th>100</th>\n",
       "      <th>250</th>\n",
       "      <th>500</th>\n",
       "      <th>750</th>\n",
       "      <th>1000</th>\n",
       "      <th>1250</th>\n",
       "      <th>2500</th>\n",
       "    </tr>\n",
       "  </thead>\n",
       "  <tbody>\n",
       "    <tr>\n",
       "      <th>0</th>\n",
       "      <td>Bubble Sort</td>\n",
       "      <td>0.002</td>\n",
       "      <td>0.009</td>\n",
       "      <td>0.034</td>\n",
       "      <td>0.076</td>\n",
       "      <td>0.141</td>\n",
       "      <td>0.211</td>\n",
       "      <td>0.861</td>\n",
       "    </tr>\n",
       "    <tr>\n",
       "      <th>1</th>\n",
       "      <td>Selection Sort</td>\n",
       "      <td>0.001</td>\n",
       "      <td>0.007</td>\n",
       "      <td>0.029</td>\n",
       "      <td>0.066</td>\n",
       "      <td>0.115</td>\n",
       "      <td>0.182</td>\n",
       "      <td>0.733</td>\n",
       "    </tr>\n",
       "    <tr>\n",
       "      <th>2</th>\n",
       "      <td>Insertion Sort</td>\n",
       "      <td>0.000</td>\n",
       "      <td>0.001</td>\n",
       "      <td>0.003</td>\n",
       "      <td>0.006</td>\n",
       "      <td>0.012</td>\n",
       "      <td>0.018</td>\n",
       "      <td>0.089</td>\n",
       "    </tr>\n",
       "    <tr>\n",
       "      <th>3</th>\n",
       "      <td>Merge Sort</td>\n",
       "      <td>0.001</td>\n",
       "      <td>0.001</td>\n",
       "      <td>0.003</td>\n",
       "      <td>0.004</td>\n",
       "      <td>0.006</td>\n",
       "      <td>0.008</td>\n",
       "      <td>0.016</td>\n",
       "    </tr>\n",
       "  </tbody>\n",
       "</table>\n",
       "</div>"
      ],
      "text/plain": [
       "             Size    100    250    500    750   1000   1250   2500\n",
       "0     Bubble Sort  0.002  0.009  0.034  0.076  0.141  0.211  0.861\n",
       "1  Selection Sort  0.001  0.007  0.029  0.066  0.115  0.182  0.733\n",
       "2  Insertion Sort  0.000  0.001  0.003  0.006  0.012  0.018  0.089\n",
       "3      Merge Sort  0.001  0.001  0.003  0.004  0.006  0.008  0.016"
      ]
     },
     "execution_count": 28,
     "metadata": {},
     "output_type": "execute_result"
    }
   ],
   "source": [
    "df2"
   ]
  }
 ],
 "metadata": {
  "interpreter": {
   "hash": "b3ba2566441a7c06988d0923437866b63cedc61552a5af99d1f4fb67d367b25f"
  },
  "kernelspec": {
   "display_name": "Python 3.8.8 ('base')",
   "language": "python",
   "name": "python3"
  },
  "language_info": {
   "codemirror_mode": {
    "name": "ipython",
    "version": 3
   },
   "file_extension": ".py",
   "mimetype": "text/x-python",
   "name": "python",
   "nbconvert_exporter": "python",
   "pygments_lexer": "ipython3",
   "version": "3.8.8"
  },
  "orig_nbformat": 4
 },
 "nbformat": 4,
 "nbformat_minor": 2
}
