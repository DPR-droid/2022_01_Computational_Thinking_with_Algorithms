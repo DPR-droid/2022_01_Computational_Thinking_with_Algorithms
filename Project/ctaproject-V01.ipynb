{
 "cells": [
  {
   "cell_type": "code",
   "execution_count": 1,
   "metadata": {},
   "outputs": [],
   "source": [
    "import time\n",
    "from numpy import random\n",
    "import pandas as pd\n",
    "\n"
   ]
  },
  {
   "cell_type": "code",
   "execution_count": 4,
   "metadata": {},
   "outputs": [],
   "source": [
    "\n",
    "# https://www.geeksforgeeks.org/python-program-for-bubble-sort/\n",
    "# Bubble Sort\n",
    "def bubblesort(elements):\n",
    "  # Looping n-1 times\n",
    "  for n in range(len(elements)-1, 0, -1):\n",
    "    # Loop is short 1 each time as the other eleement is sorted\n",
    "    for i in range(n):\n",
    "      # Comparing each element  with the element beside \n",
    "      if elements[i] > elements[i + 1]:\n",
    "        # Swapping out of order with the largest element to the right\n",
    "        elements[i], elements[i + 1] = elements[i + 1], elements[i]\n",
    "  return elements\n",
    "  "
   ]
  },
  {
   "cell_type": "code",
   "execution_count": 5,
   "metadata": {},
   "outputs": [],
   "source": [
    "# Computational Thinking with Algorithms - Week 8 - Sorting Algorithms Part 2\n",
    "# https://runestone.academy/ns/books/published/pythonds3/SortSearch/TheSelectionSort.html\n",
    "# Selection Sort\n",
    "\n",
    "def selection_sort(arr):\n",
    "    n = len(arr)\n",
    "    for outer in range(0,n,1):\n",
    "        min = outer\n",
    "        #print(f\"outer is {outer}\")\n",
    "        for inner in range(outer+1,n,1):\n",
    "            if arr[inner] < arr[min]:\n",
    "                min = inner\n",
    "                \n",
    "        #print(f\"min is {min}\")\n",
    "        #print(f\"swapping {arr[outer]} and {arr[min]}\")\n",
    "        temp = arr[outer]\n",
    "        arr[outer] = arr[min]\n",
    "        arr[min] = temp"
   ]
  },
  {
   "cell_type": "code",
   "execution_count": 16,
   "metadata": {},
   "outputs": [],
   "source": [
    "#Nsizes = [100,250,500,750,1000,1250,2500]\n",
    "Nsizes = [100,250,500,750]\n",
    "\n",
    "algos = [bubblesort, selection_sort]\n",
    "\n",
    "algorythm = algos[0]\n",
    "\n",
    "#print(type(algorythm))\n",
    "\n"
   ]
  },
  {
   "cell_type": "code",
   "execution_count": 28,
   "metadata": {},
   "outputs": [],
   "source": [
    "# Create a timer using a while loop\n",
    "# Extracted from CTA Project Specification\n",
    "def timer(x,y):\n",
    "    i = 0\n",
    "    avgtime = 0\n",
    "    #algorythm = algos[0]\n",
    "    getarray = random.randint(100, size=(x))\n",
    "    # Begin 10 runs for algorithm\n",
    "    while i < 10:\n",
    "        start_time = time.time()\n",
    "        # call your function\n",
    "\n",
    "        y(getarray)\n",
    "        \n",
    "        # print(\"##############################\\n\")\n",
    "        end_time = time.time()\n",
    "        \n",
    "        time_elapsed = end_time - start_time\n",
    "        # print(\"##############################\\n\")\n",
    "        #print(\"Time Difference : \" + str(time_elapsed))\n",
    "        \n",
    "        avgtime = avgtime + time_elapsed\n",
    "        #print(\"Adding time Difference : \" + str(avgtime))\n",
    "        i = i + 1\n",
    "        #print(\"Pass number: \" + str(i))\n",
    "        # return time_elapsed\n",
    "    # print(\"Total time: \" + str(round(avgtime, 3)) + \" \" + str(x))\n",
    "    algotimed = str(round(avgtime/10, 3))\n",
    "    #print(\"Average time Decimal place: \" + str(y.__name__) + \" \" + algotimed + \" with an array lenght \" + str(x))\n",
    "    \n",
    "    return algotimed"
   ]
  },
  {
   "cell_type": "code",
   "execution_count": 30,
   "metadata": {},
   "outputs": [],
   "source": [
    "a_dict = {}"
   ]
  },
  {
   "cell_type": "code",
   "execution_count": 31,
   "metadata": {},
   "outputs": [
    {
     "name": "stdout",
     "output_type": "stream",
     "text": [
      "bubblesort 0.001  100\n",
      "selection_sort 0.001  100\n",
      "bubblesort 0.008  250\n",
      "selection_sort 0.007  250\n",
      "bubblesort 0.034  500\n",
      "selection_sort 0.029  500\n",
      "bubblesort 0.078  750\n",
      "selection_sort 0.064  750\n",
      "{100: ['0.001', '0.001'], 250: ['0.008', '0.007'], 500: ['0.034', '0.029'], 750: ['0.078', '0.064']}\n"
     ]
    }
   ],
   "source": [
    "# https://www.oreilly.com/library/view/python-cookbook/0596001673/ch01s15.html\n",
    "for x, y in [(x,y) for x in Nsizes for y in algos]:\n",
    "    #print(timer(x,y))\n",
    "    \n",
    "    timed = timer(x,y)\n",
    "    print(str(y.__name__) + \" \" + timed + \"  \" + str(x))\n",
    "\n",
    "    if x in a_dict:\n",
    "        a_dict[x].append(timed)\n",
    "    else:\n",
    "        a_dict[x] = [timed]\n",
    "\n",
    "    \n",
    "\n",
    "print(a_dict)\n"
   ]
  }
 ],
 "metadata": {
  "interpreter": {
   "hash": "b3ba2566441a7c06988d0923437866b63cedc61552a5af99d1f4fb67d367b25f"
  },
  "kernelspec": {
   "display_name": "Python 3.8.8 ('base')",
   "language": "python",
   "name": "python3"
  },
  "language_info": {
   "codemirror_mode": {
    "name": "ipython",
    "version": 3
   },
   "file_extension": ".py",
   "mimetype": "text/x-python",
   "name": "python",
   "nbconvert_exporter": "python",
   "pygments_lexer": "ipython3",
   "version": "3.8.8"
  },
  "orig_nbformat": 4
 },
 "nbformat": 4,
 "nbformat_minor": 2
}
