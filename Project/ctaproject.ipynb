{
 "cells": [
  {
   "cell_type": "code",
   "execution_count": 1,
   "metadata": {},
   "outputs": [],
   "source": [
    "import time\n",
    "import random\n"
   ]
  },
  {
   "cell_type": "code",
   "execution_count": 2,
   "metadata": {},
   "outputs": [],
   "source": [
    "# Bubble Sort\n",
    "# Selection Sort\n",
    "# Insertion Sort\n",
    "# Merge sort\n",
    "# Counting sort"
   ]
  },
  {
   "cell_type": "code",
   "execution_count": 3,
   "metadata": {},
   "outputs": [],
   "source": [
    "# Create the a random array\n",
    "# Extracted from CTA Project Specification\n",
    "def random_array(n):\n",
    "    array = []\n",
    "    for i in range (0, n, 1):\n",
    "        array.append(random.randint(0, 100))\n",
    "    return array"
   ]
  },
  {
   "cell_type": "code",
   "execution_count": 14,
   "metadata": {},
   "outputs": [],
   "source": [
    "# Create a timer using a while loop\n",
    "# Extracted from CTA Project Specification\n",
    "def timer(func, ranarray):\n",
    "    i = 0\n",
    "    avgtime = 0\n",
    "    # Begin 10 runs for algorithm\n",
    "    while i < 10:\n",
    "        start_time = time.time()\n",
    "        # call your function\n",
    "\n",
    "        func(ranarray)\n",
    "        \n",
    "        # print(\"##############################\\n\")\n",
    "        end_time = time.time()\n",
    "        \n",
    "        time_elapsed = end_time - start_time\n",
    "        # print(\"##############################\\n\")\n",
    "        print(\"Time Difference : \" + str(time_elapsed))\n",
    "        \n",
    "        avgtime = avgtime + time_elapsed\n",
    "        print(\"Adding time Difference : \" + str(avgtime))\n",
    "        i = i + 1\n",
    "        print(\"Pass number: \" + str(i))\n",
    "        # return time_elapsed\n",
    "    print(\"Average time: \" + str(round(avgtime, 3)))\n",
    "    print(\"Average time Decimal place: \" + str(round(avgtime/10, 3)))\n"
   ]
  },
  {
   "cell_type": "code",
   "execution_count": 5,
   "metadata": {},
   "outputs": [],
   "source": [
    "# https://www.geeksforgeeks.org/python-program-for-bubble-sort/\n",
    "# Bubble Sort\n",
    "def bubblesort(elements):\n",
    "  # Looping from size of array from last index[-1] to index [0]\n",
    "  for n in range(len(elements)-1, 0, -1):\n",
    "    for i in range(n):\n",
    "      if elements[i] > elements[i + 1]:\n",
    "        # swapping data if the element is less than next element in the array\n",
    "        elements[i], elements[i + 1] = elements[i + 1], elements[i]\n",
    "\n"
   ]
  },
  {
   "cell_type": "code",
   "execution_count": 6,
   "metadata": {},
   "outputs": [],
   "source": [
    "# Computational Thinking with Algorithms - Week 8 - Sorting Algorithms Part 2\n",
    "# https://runestone.academy/ns/books/published/pythonds3/SortSearch/TheSelectionSort.html\n",
    "# Selection Sort\n",
    "\n",
    "def selection_sort(arr):\n",
    "    n = len(arr)\n",
    "    for outer in range(0,n,1):\n",
    "        min = outer\n",
    "        print(f\"outer is {outer}\")\n",
    "        for inner in range(outer+1,n,1):\n",
    "            if arr[inner] < arr[min]:\n",
    "                min = inner\n",
    "                \n",
    "        print(f\"min is {min}\")\n",
    "        print(f\"swapping {arr[outer]} and {arr[min]}\")\n",
    "        temp = arr[outer]\n",
    "        arr[outer] = arr[min]\n",
    "        arr[min] = temp"
   ]
  },
  {
   "cell_type": "code",
   "execution_count": 7,
   "metadata": {},
   "outputs": [],
   "source": [
    "# 6.9. The Insertion Sort\n",
    "# https://runestone.academy/ns/books/published/pythonds3/SortSearch/TheInsertionSort.html\n",
    "\n",
    "def insertion_sort(a_list):\n",
    "    for i in range(1, len(a_list)):\n",
    "        cur_val = a_list[i]\n",
    "        cur_pos = i\n",
    "\n",
    "        while cur_pos > 0 and a_list[cur_pos - 1] > cur_val:\n",
    "            a_list[cur_pos] = a_list[cur_pos - 1]\n",
    "            cur_pos = cur_pos - 1\n",
    "        a_list[cur_pos] = cur_val"
   ]
  },
  {
   "cell_type": "code",
   "execution_count": 8,
   "metadata": {},
   "outputs": [
    {
     "name": "stdout",
     "output_type": "stream",
     "text": [
      "Given array is\n",
      "[12, 11, 13, 5, 6, 7]\n",
      "\n",
      "\n",
      "Sorted array is\n",
      "[5, 6, 7, 11, 12, 13]\n"
     ]
    }
   ],
   "source": [
    "# https://www.geeksforgeeks.org/iterative-merge-sort/\n",
    "# Recursive Python Program for merge sort\n",
    " \n",
    "def merge(left, right):\n",
    "    if not len(left) or not len(right):\n",
    "        return left or right\n",
    " \n",
    "    result = []\n",
    "    i, j = 0, 0\n",
    "    while (len(result) < len(left) + len(right)):\n",
    "        if left[i] < right[j]:\n",
    "            result.append(left[i])\n",
    "            i+= 1\n",
    "        else:\n",
    "            result.append(right[j])\n",
    "            j+= 1\n",
    "        if i == len(left) or j == len(right):\n",
    "            result.extend(left[i:] or right[j:])\n",
    "            break\n",
    " \n",
    "    return result\n",
    " \n",
    "def mergesort(list):\n",
    "    if len(list) < 2:\n",
    "        return list\n",
    " \n",
    "    middle = int(len(list)/2)\n",
    "    left = mergesort(list[:middle])\n",
    "    right = mergesort(list[middle:])\n",
    " \n",
    "    return merge(left, right)\n",
    "     \n",
    "seq = [12, 11, 13, 5, 6, 7]\n",
    "print(\"Given array is\")\n",
    "print(seq)\n",
    "print(\"\\n\")\n",
    "print(\"Sorted array is\")\n",
    "print(mergesort(seq))"
   ]
  },
  {
   "cell_type": "code",
   "execution_count": 9,
   "metadata": {},
   "outputs": [
    {
     "name": "stdout",
     "output_type": "stream",
     "text": [
      "Sorted character array is eeeefggkkorss\n"
     ]
    }
   ],
   "source": [
    "# https://www.geeksforgeeks.org/counting-sort/\n",
    "# Python program for counting sort\n",
    " \n",
    "# The main function that sort the given string arr[] in\n",
    "# alphabetical order\n",
    "def countSort(arr):\n",
    " \n",
    "    # The output character array that will have sorted arr\n",
    "    output = [0 for i in range(len(arr))]\n",
    " \n",
    "    # Create a count array to store count of individual\n",
    "    # characters and initialize count array as 0\n",
    "    count = [0 for i in range(256)]\n",
    " \n",
    "    # For storing the resulting answer since the\n",
    "    # string is immutable\n",
    "    ans = [\"\" for _ in arr]\n",
    " \n",
    "    # Store count of each character\n",
    "    for i in arr:\n",
    "        count[ord(i)] += 1\n",
    " \n",
    "    # Change count[i] so that count[i] now contains actual\n",
    "    # position of this character in output array\n",
    "    for i in range(256):\n",
    "        count[i] += count[i-1]\n",
    " \n",
    "    # Build the output character array\n",
    "    for i in range(len(arr)):\n",
    "        output[count[ord(arr[i])]-1] = arr[i]\n",
    "        count[ord(arr[i])] -= 1\n",
    " \n",
    "    # Copy the output array to arr, so that arr now\n",
    "    # contains sorted characters\n",
    "    for i in range(len(arr)):\n",
    "        ans[i] = output[i]\n",
    "    return ans\n",
    " \n",
    "# Driver program to test above function\n",
    "arr = \"geeksforgeeks\"\n",
    "ans = countSort(arr)\n",
    "print(\"Sorted character array is % s\" %(\"\".join(ans)))"
   ]
  },
  {
   "cell_type": "code",
   "execution_count": null,
   "metadata": {},
   "outputs": [],
   "source": []
  },
  {
   "cell_type": "code",
   "execution_count": 10,
   "metadata": {},
   "outputs": [],
   "source": [
    "# arrays of randomly generated integers with different input sizes n\n",
    "n100 = random_array(100)\n",
    "n250 = random_array(250)\n",
    "n500 = random_array(500)\n",
    "n750 = random_array(750)\n",
    "n1000 = random_array(1000)\n",
    "n1250 = random_array(1250)\n",
    "n2500 = random_array(2500)\n",
    "n3750 = random_array(3750)\n",
    "n5000 = random_array(5000)\n",
    "n6250 = random_array(6250)\n",
    "n7500 = random_array(7500)\n",
    "n8750 = random_array(8750)\n",
    "n10000 = random_array(10000)\n"
   ]
  },
  {
   "cell_type": "code",
   "execution_count": null,
   "metadata": {},
   "outputs": [],
   "source": [
    "# functions \n",
    "\"\"\" random_array(n)\n",
    "timer()\n",
    "bubblesort(elements)\n",
    "selection_sort(arr)\n",
    "insertion_sort(a_list)\n",
    "mergesort(list)\n",
    "countSort(arr) \"\"\""
   ]
  },
  {
   "cell_type": "code",
   "execution_count": null,
   "metadata": {},
   "outputs": [],
   "source": []
  },
  {
   "cell_type": "code",
   "execution_count": null,
   "metadata": {},
   "outputs": [],
   "source": []
  }
 ],
 "metadata": {
  "interpreter": {
   "hash": "b3ba2566441a7c06988d0923437866b63cedc61552a5af99d1f4fb67d367b25f"
  },
  "kernelspec": {
   "display_name": "Python 3.8.8 ('base')",
   "language": "python",
   "name": "python3"
  },
  "language_info": {
   "codemirror_mode": {
    "name": "ipython",
    "version": 3
   },
   "file_extension": ".py",
   "mimetype": "text/x-python",
   "name": "python",
   "nbconvert_exporter": "python",
   "pygments_lexer": "ipython3",
   "version": "3.8.8"
  },
  "orig_nbformat": 4
 },
 "nbformat": 4,
 "nbformat_minor": 2
}
