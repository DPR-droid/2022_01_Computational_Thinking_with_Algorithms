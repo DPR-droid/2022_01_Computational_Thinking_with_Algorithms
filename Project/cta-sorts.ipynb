{
 "cells": [
  {
   "cell_type": "markdown",
   "metadata": {},
   "source": [
    "# Second Jupyter Notebook \n",
    "## This is for illustrtion purposes on the selected sorting algorithms \n",
    "This second Jupyter notebook cta-sorts.ipynb is included to demonstrate the bespoke diagrams. "
   ]
  },
  {
   "cell_type": "markdown",
   "metadata": {},
   "source": [
    "# Bubble Sort as a simple comparison-based sort. [20]"
   ]
  },
  {
   "cell_type": "code",
   "execution_count": 1,
   "metadata": {},
   "outputs": [],
   "source": [
    "# Bubble Sort as a simple comparison-based sort. [20]\n",
    "# https://www.geeksforgeeks.org/python-program-for-bubble-sort/\n",
    "def bubblesort(elements):\n",
    "  # Looping n-1 times\n",
    "  print(\"input: \" + str(elements))\n",
    "  for n in range(len(elements)-1, 0, -1):\n",
    "    # Loop is short 1 each time as the other element is sorted\n",
    "    for i in range(n):\n",
    "        # Comparing each element with the element beside \n",
    "      if elements[i] > elements[i + 1]:\n",
    "        # Swapping out of order with the largest element to the right\n",
    "        elements[i], elements[i + 1] = elements[i + 1], elements[i]\n",
    "        print(\"Sorting in-place: \" + str(elements))\n",
    "  return elements"
   ]
  },
  {
   "cell_type": "markdown",
   "metadata": {},
   "source": [
    "## Example 5 cta-sorts.ipynb code and execution of the Bubble sort of above diagrams"
   ]
  },
  {
   "cell_type": "code",
   "execution_count": 2,
   "metadata": {},
   "outputs": [
    {
     "name": "stdout",
     "output_type": "stream",
     "text": [
      "input: [2, 4, 20, 1, 19]\n",
      "Sorting in-place: [2, 4, 1, 20, 19]\n",
      "Sorting in-place: [2, 4, 1, 19, 20]\n",
      "Sorting in-place: [2, 1, 4, 19, 20]\n",
      "Sorting in-place: [1, 2, 4, 19, 20]\n",
      "[1, 2, 4, 19, 20]\n"
     ]
    }
   ],
   "source": [
    "list = [2, 4, 20, 1, 19]\n",
    "# list = [7,5,2,3,1]\n",
    "\n",
    "print(bubblesort(list))"
   ]
  },
  {
   "cell_type": "markdown",
   "metadata": {},
   "source": [
    "# Selection Sort as a simple comparison-based sort. [23]"
   ]
  },
  {
   "cell_type": "code",
   "execution_count": 3,
   "metadata": {},
   "outputs": [],
   "source": [
    "# Selection Sort as a simple comparison-based sort. [23]\n",
    "# Computational Thinking with Algorithms - Week 8 - Sorting Algorithms Part 2\n",
    "# https://runestone.academy/ns/books/published/pythonds3/SortSearch/TheSelectionSort.html\n",
    "\n",
    "def selection_sort(arr):\n",
    "    # Get Lenght of array\n",
    "    n = len(arr)\n",
    "\n",
    "    print(\"Sorting Stable 0: \" + str(arr))\n",
    "    for outer in range(0,n,1):\n",
    "        # Find postion for mimimum element \n",
    "        print(\"outer: \" + str(outer))\n",
    "        min = outer\n",
    "        for inner in range(outer+1,n,1):\n",
    "            # Find minimum element\n",
    "            print(\"inner: \" + str(inner))\n",
    "            if arr[inner] < arr[min]:\n",
    "                min = inner\n",
    "                print(\"Sorting Stable 1: \" + str(min))\n",
    "        # Swap out element to temporary\n",
    "        temp = arr[outer]\n",
    "        print(\"Sorting Stable 2: \" + str(temp))\n",
    "        # Swap lowest eleemnt in into it's correct postion \n",
    "        arr[outer] = arr[min]\n",
    "        # Swap temporary to lowest element orginal postion  \n",
    "        print(\"Sorting Stable 3: \" + str(arr[outer]))\n",
    "        arr[min] = temp\n",
    "        print(\"Sorting Stable 4: \" + str(arr[min]))\n",
    "        print(\"Sorting Stable 5: \" + str(arr))\n",
    "\n",
    "    return arr\n",
    "\n",
    "        "
   ]
  },
  {
   "cell_type": "markdown",
   "metadata": {},
   "source": [
    "## Example 9 cta-sorts.ipynb code output of a Selection sort of the above diagrams"
   ]
  },
  {
   "cell_type": "code",
   "execution_count": 4,
   "metadata": {},
   "outputs": [
    {
     "name": "stdout",
     "output_type": "stream",
     "text": [
      "Sorting Stable 0: [2, 4, 20, 1, 19]\n",
      "outer: 0\n",
      "inner: 1\n",
      "inner: 2\n",
      "inner: 3\n",
      "Sorting Stable 1: 3\n",
      "inner: 4\n",
      "Sorting Stable 2: 2\n",
      "Sorting Stable 3: 1\n",
      "Sorting Stable 4: 2\n",
      "Sorting Stable 5: [1, 4, 20, 2, 19]\n",
      "outer: 1\n",
      "inner: 2\n",
      "inner: 3\n",
      "Sorting Stable 1: 3\n",
      "inner: 4\n",
      "Sorting Stable 2: 4\n",
      "Sorting Stable 3: 2\n",
      "Sorting Stable 4: 4\n",
      "Sorting Stable 5: [1, 2, 20, 4, 19]\n",
      "outer: 2\n",
      "inner: 3\n",
      "Sorting Stable 1: 3\n",
      "inner: 4\n",
      "Sorting Stable 2: 20\n",
      "Sorting Stable 3: 4\n",
      "Sorting Stable 4: 20\n",
      "Sorting Stable 5: [1, 2, 4, 20, 19]\n",
      "outer: 3\n",
      "inner: 4\n",
      "Sorting Stable 1: 4\n",
      "Sorting Stable 2: 20\n",
      "Sorting Stable 3: 19\n",
      "Sorting Stable 4: 20\n",
      "Sorting Stable 5: [1, 2, 4, 19, 20]\n",
      "outer: 4\n",
      "Sorting Stable 2: 20\n",
      "Sorting Stable 3: 20\n",
      "Sorting Stable 4: 20\n",
      "Sorting Stable 5: [1, 2, 4, 19, 20]\n",
      "[1, 2, 4, 19, 20]\n"
     ]
    }
   ],
   "source": [
    "list = [2, 4, 20, 1, 19]\n",
    "\n",
    "print(selection_sort(list))"
   ]
  },
  {
   "cell_type": "markdown",
   "metadata": {},
   "source": [
    "# Merge Sort as an efficient comparison-based sort  [21]"
   ]
  },
  {
   "cell_type": "code",
   "execution_count": 5,
   "metadata": {},
   "outputs": [],
   "source": [
    "# Merge Sort as an efficient comparison-based sort  [21]\n",
    "# https://www.geeksforgeeks.org/iterative-merge-sort/\n",
    " \n",
    "def merge(left, right):\n",
    "    # Check either array is empty\n",
    "    if not len(left) or not len(right):\n",
    "        return left or right\n",
    "    # Setting for while loop\n",
    "    # Result set as list\n",
    "    result = []\n",
    "    # Set i and j to zero\n",
    "    i, j = 0, 0\n",
    "    while (len(result) < len(left) + len(right)):\n",
    "        # If element of left array less-than element of right array\n",
    "        if left[i] < right[j]:\n",
    "            # append the left element to result list\n",
    "            result.append(left[i])\n",
    "            print(\"B Result : \" + str(result))\n",
    "            # increase i by 1\n",
    "            i+= 1\n",
    "        else:\n",
    "            # Else append the right element to result list\n",
    "            result.append(right[j])\n",
    "            print(\"C Result : \" + str(result))\n",
    "            # increase j by 1\n",
    "            j+= 1\n",
    "        if i == len(left) or j == len(right):\n",
    "            # if i or j is equal to the lenght of the left or right array\n",
    "            # adds all the elements to the array\n",
    "            result.extend(left[i:] or right[j:])\n",
    "            print(\"D Result : \" + str(result))\n",
    "            break\n",
    "    print(\"E Result : \" + str(result))\n",
    "    # Return results\n",
    "    return result\n",
    " \n",
    "def mergesort(list):\n",
    "    # Check lenght of list has more than 1 element \n",
    "    if len(list) < 2:\n",
    "        return list\n",
    "    # Divide the list into 2 arrays\n",
    "    middle = int(len(list)/2)\n",
    "    # Set arrays into left and right\n",
    "    left = mergesort(list[:middle])\n",
    "    right = mergesort(list[middle:])\n",
    "    print(\"F Left : \" + str(left) + \" F Right : \" + str(right))\n",
    "    # Send to merge function\n",
    "    return merge(left, right)"
   ]
  },
  {
   "cell_type": "markdown",
   "metadata": {},
   "source": [
    "## Example 6 cta-sorts.ipynb code output of a merge sort of the above diagrams"
   ]
  },
  {
   "cell_type": "code",
   "execution_count": 6,
   "metadata": {},
   "outputs": [
    {
     "name": "stdout",
     "output_type": "stream",
     "text": [
      "F Left : [2] F Right : [4]\n",
      "B Result : [2]\n",
      "D Result : [2, 4]\n",
      "E Result : [2, 4]\n",
      "F Left : [1] F Right : [19]\n",
      "B Result : [1]\n",
      "D Result : [1, 19]\n",
      "E Result : [1, 19]\n",
      "F Left : [20] F Right : [1, 19]\n",
      "C Result : [1]\n",
      "C Result : [1, 19]\n",
      "D Result : [1, 19, 20]\n",
      "E Result : [1, 19, 20]\n",
      "F Left : [2, 4] F Right : [1, 19, 20]\n",
      "C Result : [1]\n",
      "B Result : [1, 2]\n",
      "B Result : [1, 2, 4]\n",
      "D Result : [1, 2, 4, 19, 20]\n",
      "E Result : [1, 2, 4, 19, 20]\n",
      "[1, 2, 4, 19, 20]\n"
     ]
    }
   ],
   "source": [
    "list = [2, 4, 20, 1, 19]\n",
    "\n",
    "print(mergesort(list))"
   ]
  },
  {
   "cell_type": "markdown",
   "metadata": {},
   "source": [
    "# Counting Sort as a non-comparison sort [22]\n"
   ]
  },
  {
   "cell_type": "code",
   "execution_count": 7,
   "metadata": {},
   "outputs": [],
   "source": [
    "# Counting Sort as a non-comparison sort [22]\n",
    "# https://www.geeksforgeeks.org/counting-sort/\n",
    "\n",
    "def count_sort(arr):\n",
    "    max_element = int(max(arr))\n",
    "    min_element = int(min(arr))\n",
    "    print(\"max_element : \" + str(max_element))\n",
    "    print(\"min_element : \" + str(min_element))\n",
    "    range_of_elements = max_element - min_element + 1\n",
    "    print(\"range_of_elements : \" + str(range_of_elements))\n",
    "    # Create a count array to store count of individual\n",
    "    # elements and initialize count array as 0\n",
    "    count_arr = [0 for _ in range(range_of_elements)]\n",
    "    print(\"count_arr : \" + str(count_arr))\n",
    "    output_arr = [0 for _ in range(len(arr))]\n",
    "    print(\"output_arr : \" + str(output_arr))\n",
    "    # Store count of each character\n",
    "    for i in range(0, len(arr)):\n",
    "        count_arr[arr[i]-min_element] += 1\n",
    " \n",
    "    # Change count_arr[i] so that count_arr[i] now contains actual\n",
    "    # position of this element in output array\n",
    "    for i in range(1, len(count_arr)):\n",
    "        count_arr[i] += count_arr[i-1]\n",
    "        print(\"count_arr 1 : \" + str(count_arr))\n",
    "    # Build the output character array\n",
    "    for i in range(len(arr)-1, -1, -1):\n",
    "        output_arr[count_arr[arr[i] - min_element] - 1] = arr[i]\n",
    "        count_arr[arr[i] - min_element] -= 1\n",
    "        print(\"count_arr 2 : \" + str(count_arr))\n",
    "        print(\"output_arr 2 : \" + str(output_arr))\n",
    "    # Copy the output array to arr, so that arr now\n",
    "    # contains sorted characters\n",
    "    for i in range(0, len(arr)):\n",
    "        arr[i] = output_arr[i]\n",
    "        print(\"arr[i] : \" + str(arr[i]))\n",
    "    return arr"
   ]
  },
  {
   "cell_type": "markdown",
   "metadata": {},
   "source": [
    "## Example 7 cta-sorts.ipynb input index of 5 elements with range 1-20 with auxiliary of 20 "
   ]
  },
  {
   "cell_type": "code",
   "execution_count": 8,
   "metadata": {},
   "outputs": [
    {
     "name": "stdout",
     "output_type": "stream",
     "text": [
      "max_element : 20\n",
      "min_element : 1\n",
      "range_of_elements : 20\n",
      "count_arr : [0, 0, 0, 0, 0, 0, 0, 0, 0, 0, 0, 0, 0, 0, 0, 0, 0, 0, 0, 0]\n",
      "output_arr : [0, 0, 0, 0, 0]\n",
      "count_arr 1 : [1, 2, 0, 1, 0, 0, 0, 0, 0, 0, 0, 0, 0, 0, 0, 0, 0, 0, 1, 1]\n",
      "count_arr 1 : [1, 2, 2, 1, 0, 0, 0, 0, 0, 0, 0, 0, 0, 0, 0, 0, 0, 0, 1, 1]\n",
      "count_arr 1 : [1, 2, 2, 3, 0, 0, 0, 0, 0, 0, 0, 0, 0, 0, 0, 0, 0, 0, 1, 1]\n",
      "count_arr 1 : [1, 2, 2, 3, 3, 0, 0, 0, 0, 0, 0, 0, 0, 0, 0, 0, 0, 0, 1, 1]\n",
      "count_arr 1 : [1, 2, 2, 3, 3, 3, 0, 0, 0, 0, 0, 0, 0, 0, 0, 0, 0, 0, 1, 1]\n",
      "count_arr 1 : [1, 2, 2, 3, 3, 3, 3, 0, 0, 0, 0, 0, 0, 0, 0, 0, 0, 0, 1, 1]\n",
      "count_arr 1 : [1, 2, 2, 3, 3, 3, 3, 3, 0, 0, 0, 0, 0, 0, 0, 0, 0, 0, 1, 1]\n",
      "count_arr 1 : [1, 2, 2, 3, 3, 3, 3, 3, 3, 0, 0, 0, 0, 0, 0, 0, 0, 0, 1, 1]\n",
      "count_arr 1 : [1, 2, 2, 3, 3, 3, 3, 3, 3, 3, 0, 0, 0, 0, 0, 0, 0, 0, 1, 1]\n",
      "count_arr 1 : [1, 2, 2, 3, 3, 3, 3, 3, 3, 3, 3, 0, 0, 0, 0, 0, 0, 0, 1, 1]\n",
      "count_arr 1 : [1, 2, 2, 3, 3, 3, 3, 3, 3, 3, 3, 3, 0, 0, 0, 0, 0, 0, 1, 1]\n",
      "count_arr 1 : [1, 2, 2, 3, 3, 3, 3, 3, 3, 3, 3, 3, 3, 0, 0, 0, 0, 0, 1, 1]\n",
      "count_arr 1 : [1, 2, 2, 3, 3, 3, 3, 3, 3, 3, 3, 3, 3, 3, 0, 0, 0, 0, 1, 1]\n",
      "count_arr 1 : [1, 2, 2, 3, 3, 3, 3, 3, 3, 3, 3, 3, 3, 3, 3, 0, 0, 0, 1, 1]\n",
      "count_arr 1 : [1, 2, 2, 3, 3, 3, 3, 3, 3, 3, 3, 3, 3, 3, 3, 3, 0, 0, 1, 1]\n",
      "count_arr 1 : [1, 2, 2, 3, 3, 3, 3, 3, 3, 3, 3, 3, 3, 3, 3, 3, 3, 0, 1, 1]\n",
      "count_arr 1 : [1, 2, 2, 3, 3, 3, 3, 3, 3, 3, 3, 3, 3, 3, 3, 3, 3, 3, 1, 1]\n",
      "count_arr 1 : [1, 2, 2, 3, 3, 3, 3, 3, 3, 3, 3, 3, 3, 3, 3, 3, 3, 3, 4, 1]\n",
      "count_arr 1 : [1, 2, 2, 3, 3, 3, 3, 3, 3, 3, 3, 3, 3, 3, 3, 3, 3, 3, 4, 5]\n",
      "count_arr 2 : [1, 2, 2, 3, 3, 3, 3, 3, 3, 3, 3, 3, 3, 3, 3, 3, 3, 3, 3, 5]\n",
      "output_arr 2 : [0, 0, 0, 19, 0]\n",
      "count_arr 2 : [0, 2, 2, 3, 3, 3, 3, 3, 3, 3, 3, 3, 3, 3, 3, 3, 3, 3, 3, 5]\n",
      "output_arr 2 : [1, 0, 0, 19, 0]\n",
      "count_arr 2 : [0, 2, 2, 3, 3, 3, 3, 3, 3, 3, 3, 3, 3, 3, 3, 3, 3, 3, 3, 4]\n",
      "output_arr 2 : [1, 0, 0, 19, 20]\n",
      "count_arr 2 : [0, 2, 2, 2, 3, 3, 3, 3, 3, 3, 3, 3, 3, 3, 3, 3, 3, 3, 3, 4]\n",
      "output_arr 2 : [1, 0, 4, 19, 20]\n",
      "count_arr 2 : [0, 1, 2, 2, 3, 3, 3, 3, 3, 3, 3, 3, 3, 3, 3, 3, 3, 3, 3, 4]\n",
      "output_arr 2 : [1, 2, 4, 19, 20]\n",
      "arr[i] : 1\n",
      "arr[i] : 2\n",
      "arr[i] : 4\n",
      "arr[i] : 19\n",
      "arr[i] : 20\n",
      "[1, 2, 4, 19, 20]\n"
     ]
    }
   ],
   "source": [
    "list = [2, 4, 20, 1, 19]\n",
    "#list = [1,1,3,2,1]\n",
    "\n",
    "print(count_sort(list))"
   ]
  },
  {
   "cell_type": "markdown",
   "metadata": {},
   "source": [
    "## Example 8 cta-sorts.ipynb input index of 5 elements with range 1-3 with auxiliary of 3"
   ]
  },
  {
   "cell_type": "code",
   "execution_count": 9,
   "metadata": {},
   "outputs": [
    {
     "name": "stdout",
     "output_type": "stream",
     "text": [
      "max_element : 3\n",
      "min_element : 1\n",
      "range_of_elements : 3\n",
      "count_arr : [0, 0, 0]\n",
      "output_arr : [0, 0, 0, 0, 0]\n",
      "count_arr 1 : [3, 4, 1]\n",
      "count_arr 1 : [3, 4, 5]\n",
      "count_arr 2 : [2, 4, 5]\n",
      "output_arr 2 : [0, 0, 1, 0, 0]\n",
      "count_arr 2 : [2, 3, 5]\n",
      "output_arr 2 : [0, 0, 1, 2, 0]\n",
      "count_arr 2 : [2, 3, 4]\n",
      "output_arr 2 : [0, 0, 1, 2, 3]\n",
      "count_arr 2 : [1, 3, 4]\n",
      "output_arr 2 : [0, 1, 1, 2, 3]\n",
      "count_arr 2 : [0, 3, 4]\n",
      "output_arr 2 : [1, 1, 1, 2, 3]\n",
      "arr[i] : 1\n",
      "arr[i] : 1\n",
      "arr[i] : 1\n",
      "arr[i] : 2\n",
      "arr[i] : 3\n",
      "[1, 1, 1, 2, 3]\n"
     ]
    }
   ],
   "source": [
    "list = [1,1,3,2,1]\n",
    "\n",
    "print(count_sort(list))"
   ]
  },
  {
   "cell_type": "markdown",
   "metadata": {},
   "source": [
    "# Insertion Sort as a simple comparison-based sort. [24]"
   ]
  },
  {
   "cell_type": "code",
   "execution_count": 10,
   "metadata": {},
   "outputs": [],
   "source": [
    "# Insertion Sort as a simple comparison-based sort. [24]\n",
    "# https://runestone.academy/ns/books/published/pythonds3/SortSearch/TheInsertionSort.html\n",
    "\n",
    "def insertion_sort(a_list):\n",
    "    # Cycle over element get positon and value\n",
    "    for i in range(1, len(a_list)):\n",
    "        cur_val = a_list[i]\n",
    "        cur_pos = i\n",
    "        print(\"a_list: \" + str(a_list))\n",
    "        print(\"cur_val: \" + str(cur_val))\n",
    "        print(\"cur_pos: \" + str(cur_pos))\n",
    "        # Check element and insert into position if less\n",
    "        while cur_pos > 0 and a_list[cur_pos - 1] > cur_val:\n",
    "            a_list[cur_pos] = a_list[cur_pos - 1]\n",
    "            print(\"a_list[cur_pos]: \" + str(a_list[cur_pos]))\n",
    "            cur_pos = cur_pos - 1\n",
    "            print(\"cur_pos -1: \" + str(cur_pos))\n",
    "        # Return updated list    \n",
    "        a_list[cur_pos] = cur_val\n",
    "        print(\"a_list[cur_pos] 2: \" + str(a_list[cur_pos]))\n",
    "    return a_list"
   ]
  },
  {
   "cell_type": "markdown",
   "metadata": {},
   "source": [
    "## Example 10 cta-sorts.ipynb code output of an Insertion sort of the above diagrams"
   ]
  },
  {
   "cell_type": "code",
   "execution_count": 11,
   "metadata": {},
   "outputs": [
    {
     "name": "stdout",
     "output_type": "stream",
     "text": [
      "a_list: [20, 40, 200, 10, 190]\n",
      "cur_val: 40\n",
      "cur_pos: 1\n",
      "a_list[cur_pos] 2: 40\n",
      "a_list: [20, 40, 200, 10, 190]\n",
      "cur_val: 200\n",
      "cur_pos: 2\n",
      "a_list[cur_pos] 2: 200\n",
      "a_list: [20, 40, 200, 10, 190]\n",
      "cur_val: 10\n",
      "cur_pos: 3\n",
      "a_list[cur_pos]: 200\n",
      "cur_pos -1: 2\n",
      "a_list[cur_pos]: 40\n",
      "cur_pos -1: 1\n",
      "a_list[cur_pos]: 20\n",
      "cur_pos -1: 0\n",
      "a_list[cur_pos] 2: 10\n",
      "a_list: [10, 20, 40, 200, 190]\n",
      "cur_val: 190\n",
      "cur_pos: 4\n",
      "a_list[cur_pos]: 200\n",
      "cur_pos -1: 3\n",
      "a_list[cur_pos] 2: 190\n",
      "[10, 20, 40, 190, 200]\n"
     ]
    }
   ],
   "source": [
    "#list = [2, 4, 20, 1, 19]\n",
    "list = [20, 40, 200, 10, 190]\n",
    "\n",
    "\n",
    "print(insertion_sort(list))"
   ]
  },
  {
   "cell_type": "markdown",
   "metadata": {},
   "source": [
    "# References\n",
    "[1] Mannion, P., 2022. Sorting Algorithms Part 1\n",
    "\n",
    "[2] John D. Cook | Applied Mathematics Consulting. 2022. Sorting. [online] Available at: <https://www.johndcook.com/blog/2011/07/04/sorting/>\n",
    "\n",
    "[3] square, P. and Parikh, J., 2022. Python for loops program with square. [online] Stack Overflow. Available at: <https://stackoverflow.com/questions/41876325/python-for-loops-program-with-square> \n",
    "\n",
    "[4] Studytonight.com. 2022. Time Complexity of Algorithms | Studytonight. [online] Available at: <https://www.studytonight.com/data-structures/time-complexity-of-algorithms> \n",
    "\n",
    "[5] Mannion, P., 2022. Sorting Algorithms Part 2\n",
    "\n",
    "[6] GeeksforGeeks. 2022. In-Place Algorithm - GeeksforGeeks. [online] Available at: <https://www.geeksforgeeks.org/in-place-algorithm/> \n",
    "\n",
    "[7] Mannion, P., 2022. Sorting Algorithms Part 3\n",
    "\n",
    "[8] Mannion, P., 2022. CTA_Project.\n",
    "\n",
    "[9] Simplilearn.com. 2022. Time and Space complexity of Bubble Sort [online] Available at: <https://www.simplilearn.com/tutorials/data-structure-tutorial/bubble-sort-algorithm> \n",
    "\n",
    "[10]GeeksforGeeks. 2022. Merge Sort - GeeksforGeeks. [online] Available at: <https://www.geeksforgeeks.org/merge-sort/> \n",
    "\n",
    "[11]Opengenus.org. 2022 . Time & Space Complexity of Merge Sort. [online] Available at: <https://iq.opengenus.org/time-complexity-of-merge-sort/>\n",
    "\n",
    "[12]Studytonight.com. 2022. Merge Sort Algorithm | Studytonight. [online] Available at: <https://www.studytonight.com/data-structures/merge-sort> \n",
    "\n",
    "[13]GeeksforGeeks. 2022. Counting Sort - GeeksforGeeks. [online] Available at: <https://www.geeksforgeeks.org/counting-sort/> \n",
    "\n",
    "[14]Opengenus.org. 2022 . Time & Space Complexity of Counting Sort. [online] Available at: <https://iq.opengenus.org/time-and-space-complexity-of-counting-sort/>\n",
    "\n",
    "[15]GeeksforGeeks. 2022. Selection Sort - GeeksforGeeks. [online] Available at: <https://www.geeksforgeeks.org/stable-selection-sort/?ref=gcse> \n",
    "\n",
    "[16]Opengenus.org. 2022 . Time & Space Complexity of Selection Sort. [online] Available at: <https://iq.opengenus.org/time-complexity-of-selection-sort/>\n",
    "\n",
    "[17]GeeksforGeeks. 2022. Insertion Sort - GeeksforGeeks. [online] Available at: <https://www.geeksforgeeks.org/insertion-sort/> \n",
    "\n",
    "[18]Opengenus.org. 2022 . Time & Space Complexity of Insertion Sort. [online] Available at: <https://iq.opengenus.org/insertion-sort-analysis/>\n",
    "\n",
    "[19] O’Reilly Online Learning. 2022. Python Cookbook. [online] Available at: <https://www.oreilly.com/library/view/python-cookbook/0596001673/ch01s15.html> \n",
    "\n",
    "[20] GeeksforGeeks. 2022. Python Program for Bubble Sort - GeeksforGeeks. [online] Available at: <https://www.geeksforgeeks.org/python-program-for-bubble-sort/> \n",
    "\n",
    "[21] GeeksforGeeks. 2022. Iterative Merge Sort - GeeksforGeeks. [online] Available at: <https://www.geeksforgeeks.org/iterative-merge-sort/> \n",
    "\n",
    "[22] GeeksforGeeks. 2022. Counting Sort - GeeksforGeeks. [online] Available at: <https://www.geeksforgeeks.org/counting-sort/> \n",
    "\n",
    "[23]Runestone.academy. 2022. 6.8. The Selection Sort — Problem Solving with Algorithms and Data Structures 3rd edition. [online] Available at: <https://runestone.academy/ns/books/published/pythonds3/SortSearch/TheSelectionSort.html> \n",
    "\n",
    "[24] Runestone.academy. 2022. 6.9. The Insertion Sort — Problem Solving with Algorithms and Data Structures 3rd edition. [online] Available at: <https://runestone.academy/ns/books/published/pythonds3/SortSearch/TheInsertionSort.html> \n",
    "\n",
    "[25]Pandas.pydata.org. 2022. pandas.DataFrame.plot — pandas 0.23.1 documentation. [online] Available at: <https://pandas.pydata.org/pandas-docs/version/0.23/generated/pandas.DataFrame.plot.html> \n",
    "\n",
    "[26]Pandas.pydata.org. 2022. pandas.DataFrame.plot.line — pandas 1.4.2 documentation. [online] Available at: <https://pandas.pydata.org/docs/reference/api/pandas.DataFrame.plot.line.html> "
   ]
  }
 ],
 "metadata": {
  "interpreter": {
   "hash": "ad2bdc8ecc057115af97d19610ffacc2b4e99fae6737bb82f5d7fb13d2f2c186"
  },
  "kernelspec": {
   "display_name": "Python 3.8.8 ('base')",
   "language": "python",
   "name": "python3"
  },
  "language_info": {
   "codemirror_mode": {
    "name": "ipython",
    "version": 3
   },
   "file_extension": ".py",
   "mimetype": "text/x-python",
   "name": "python",
   "nbconvert_exporter": "python",
   "pygments_lexer": "ipython3",
   "version": "3.8.8"
  },
  "orig_nbformat": 4
 },
 "nbformat": 4,
 "nbformat_minor": 2
}
