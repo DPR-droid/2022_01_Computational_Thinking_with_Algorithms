{
 "cells": [
  {
   "cell_type": "markdown",
   "metadata": {},
   "source": [
    "# CTA Project\n",
    "# Benchmarking Sorting Algorithms\n",
    "# Implementation & Benchmarking\n",
    "\n",
    "Imports to run Jupyter Notebook, referenced in requirments.txt\n"
   ]
  },
  {
   "cell_type": "code",
   "execution_count": 63,
   "metadata": {},
   "outputs": [],
   "source": [
    "import time\n",
    "from numpy import random\n",
    "import pandas as pd\n",
    "import warnings\n",
    "warnings.filterwarnings('ignore')"
   ]
  },
  {
   "cell_type": "markdown",
   "metadata": {},
   "source": [
    "## Bubble Sort as a simple comparison-based sort.\n",
    "\n",
    "Bubble Sort is a comparison based sort which compares two elements, swapping them and continue until the they are in the correct order. The name comes from how the highest number bubbles up to the top as the largest element is repeatedly compared to the neighbour on the right and swapped.\n",
    "\n",
    "### Space complexity [9]\n",
    "O(1)  The algorithm only requires using a temporary variable while swapping the largest element\n",
    "\n",
    " \n",
    "### Time complexities [9]\n",
    "Worst Case Time Complexity of Bubble Sort is O(N^2) \n",
    "\n",
    "- This is the case when the array is reversely sort\n",
    "\n",
    "Best Case Time Complexity of Bubble Sort is O(N)\n",
    "\n",
    "- This case occurs when the given array is already sorted.\n",
    "\n",
    "Average Case Time Complexity of Bubble Sort is O(N^2) \n",
    "\n",
    "- The number of comparisons is constant in Bubble Sort so in average case, there is O(N^2) comparisons. "
   ]
  },
  {
   "cell_type": "code",
   "execution_count": 64,
   "metadata": {},
   "outputs": [],
   "source": [
    "# Bubble Sort as a simple comparison-based sort. [20]\n",
    "# https://www.geeksforgeeks.org/python-program-for-bubble-sort/\n",
    "\n",
    "def bubblesort(elements):\n",
    "  # Looping n-1 times\n",
    "  for n in range(len(elements)-1, 0, -1):\n",
    "    # Loop is short 1 each time as the other eleement is sorted\n",
    "    for i in range(n):\n",
    "      # Comparing each element  with the element beside \n",
    "      if elements[i] > elements[i + 1]:\n",
    "        # Swapping out of order with the largest element to the right\n",
    "        elements[i], elements[i + 1] = elements[i + 1], elements[i]\n",
    "  return elements\n",
    "  "
   ]
  },
  {
   "cell_type": "markdown",
   "metadata": {},
   "source": [
    "## Selection Sort as a simple comparison-based sort.\n",
    "A Selection Sort essentially finds the minimum element in an array and inserting it into it position with the element in it place. [15]\n",
    "\n",
    "### Space complexity [16]\n",
    "O(1) Similar to bubble sort the algorithm only requires using a temporary variable for the to hold an element in the array while swapping the elements\n",
    "\n",
    " \n",
    "### Time complexities [16]\n",
    "Worst Case Time Complexity of Selection Sort is O(N^2) \n",
    "\n",
    "- This is the case if the given array is sorted except for the last element is the smallest\n",
    "\n",
    "Best Case Time Complexity of Selection Sort is O(N^2)\n",
    "\n",
    "- This case occurs when the given array is already sorted.\n",
    "\n",
    "Average Case Time Complexity of Selection Sort is O(N^2) \n",
    "\n",
    "- The number of comparisons is constant in Selection Sort so in average case, there is O(N^2) comparisons. "
   ]
  },
  {
   "cell_type": "code",
   "execution_count": 65,
   "metadata": {},
   "outputs": [],
   "source": [
    "# Selection Sort as a simple comparison-based sort. [23]\n",
    "# Computational Thinking with Algorithms - Week 8 - Sorting Algorithms Part 2\n",
    "# https://runestone.academy/ns/books/published/pythonds3/SortSearch/TheSelectionSort.html\n",
    "\n",
    "\n",
    "def selection_sort(arr):\n",
    "    # Get Lenght of array\n",
    "    n = len(arr)\n",
    "    for outer in range(0,n,1):\n",
    "        # Find postion for mimimum element \n",
    "        min = outer\n",
    "        for inner in range(outer+1,n,1):\n",
    "            # Find minimum element\n",
    "            if arr[inner] < arr[min]:\n",
    "                min = inner\n",
    "        # Swap out element to temporary\n",
    "        temp = arr[outer]\n",
    "        # Swap lowest eleemnt in into it's correct postion \n",
    "        arr[outer] = arr[min]\n",
    "        # Swap temporary to lowest element orginal postion  \n",
    "        arr[min] = temp\n",
    "    return arr"
   ]
  },
  {
   "cell_type": "markdown",
   "metadata": {},
   "source": [
    "## Insertion Sort as a simple comparison-based sort.\n",
    "An Insertion Sort compare each pair in if the minimum element in an array is found it inserts that element into the correct position. [17]\n",
    "\n",
    "### Space complexity [18]\n",
    "O(1) Similar to Bubble sort and Selection sort the algorithm only requires space by shifting the element to right and insert the element at the appropriate position.\n",
    "\n",
    " \n",
    "### Time complexities [18]\n",
    "Worst Case Time Complexity of Insertion Sort is O(N^2) \n",
    "\n",
    "- This is the case if the array is reversely sorted\n",
    "\n",
    "Best Case Time Complexity of Insertion Sort is O(N)\n",
    "\n",
    "- This case occurs when the given array is already sorted.\n",
    "\n",
    "Average Case Time Complexity of Insertion Sort is O(N^2) \n",
    "\n",
    "- The number of comparisons is constant in Insertion Sort so in average case, there is O(N^2) comparisons. "
   ]
  },
  {
   "cell_type": "code",
   "execution_count": 66,
   "metadata": {},
   "outputs": [],
   "source": [
    "# Insertion Sort as a simple comparison-based sort. [24]\n",
    "# https://runestone.academy/ns/books/published/pythonds3/SortSearch/TheInsertionSort.html\n",
    "\n",
    "def insertion_sort(a_list):\n",
    "    # Cycle over element get positon and value\n",
    "    for i in range(1, len(a_list)):\n",
    "        cur_val = a_list[i]\n",
    "        cur_pos = i\n",
    "        # Check element and insert into position if less\n",
    "        while cur_pos > 0 and a_list[cur_pos - 1] > cur_val:\n",
    "            a_list[cur_pos] = a_list[cur_pos - 1]\n",
    "            cur_pos = cur_pos - 1\n",
    "        # Update array and check     \n",
    "        a_list[cur_pos] = cur_val\n",
    "    # Return list\n",
    "    return a_list"
   ]
  },
  {
   "cell_type": "markdown",
   "metadata": {},
   "source": [
    "## Merge Sort as an efficient comparison-based sort \n",
    "Merge Sort is a recursive divide-and-conquer approach by diving the index into to halves and sub dividing, until the elements can be easily solved and then merge the results [10]. To visualise the diagram shows the index split into sub indexes  [2,4] [20] [1,19]\n",
    "\n",
    "### Space complexity [11]\n",
    "O(N) as N is the space required number of elements in the index, this is divided and stored for the total space and merging back to a single array.  \n",
    " \n",
    "### Time complexities [12]\n",
    "Merge Sort is O(n*Log n) in all the 3 cases (worst, average and best) as merge sort always divides the array in two halves and takes linear time to merge two halves."
   ]
  },
  {
   "cell_type": "code",
   "execution_count": 67,
   "metadata": {},
   "outputs": [],
   "source": [
    "# Merge Sort as an efficient comparison-based sort  [21]\n",
    "# https://www.geeksforgeeks.org/iterative-merge-sort/\n",
    " \n",
    "def merge(left, right):\n",
    "    # Check either array is empty\n",
    "    if not len(left) or not len(right):\n",
    "        return left or right\n",
    "    # Setting for while loop\n",
    "    # Result set as list\n",
    "    result = []\n",
    "    # Set i and j to zero\n",
    "    i, j = 0, 0\n",
    "    while (len(result) < len(left) + len(right)):\n",
    "        # If element of left array less-than element of right array\n",
    "        if left[i] < right[j]:\n",
    "            # append the left element to result list\n",
    "            result.append(left[i])\n",
    "            # increase i by 1\n",
    "            i+= 1\n",
    "        else:\n",
    "            # Else append the right element to result list\n",
    "            result.append(right[j])\n",
    "            # increase j by 1\n",
    "            j+= 1\n",
    "        if i == len(left) or j == len(right):\n",
    "            # if i or j is equal to the lenght of the left or right array\n",
    "            # adds all the elements to the array\n",
    "            result.extend(left[i:] or right[j:])\n",
    "            break\n",
    "    # Return results\n",
    "    return result\n",
    " \n",
    "def mergesort(list):\n",
    "    # Check lenght of list has more than 1 element \n",
    "    if len(list) < 2:\n",
    "        return list\n",
    "    # Divide the list into 2 arrays\n",
    "    middle = int(len(list)/2)\n",
    "    # Set arrays into left and right\n",
    "    left = mergesort(list[:middle])\n",
    "    right = mergesort(list[middle:])\n",
    "    # Send to merge function\n",
    "    return merge(left, right)"
   ]
  },
  {
   "cell_type": "markdown",
   "metadata": {},
   "source": [
    "## Counting Sort as a non-comparison sort\n",
    "A Counting Sort is a non comparison based algorithm based on keys in a range. It counts the number of elements with distinct value. The distinct value is held in a temporary array and uses that to sorting the input array [13] please see diagram below\n",
    "\n",
    "### Space complexity [14]\n",
    "O(K)  as an auxiliary array is created to the size of k, k in the example is 20 there for the auxiliary array is size of 20 with only 5 elements (Example 7) on the input array or create an auxiliary array of 3 if range is between input is between 1-3 with 5 elements (Example 8). This indicates that space complexity is not great for a wide range of integers as the auxiliary array of that size required to be created. \n",
    " \n",
    "### Time complexities [9]\n",
    "O(n+k) range k of the elements is significantly larger than the other elements deepening on the range of elements, Comparing example 7 with 40 steps and example 8 with 23 steps"
   ]
  },
  {
   "cell_type": "code",
   "execution_count": 68,
   "metadata": {},
   "outputs": [],
   "source": [
    "# Counting Sort as a non-comparison sort [22]\n",
    "# https://www.geeksforgeeks.org/counting-sort/\n",
    "\n",
    "def count_sort(arr):\n",
    "    max_element = int(max(arr))\n",
    "    min_element = int(min(arr))\n",
    "    range_of_elements = max_element - min_element + 1\n",
    "    # Create a count array to store count of individual\n",
    "    # elements and initialize count array as 0\n",
    "    count_arr = [0 for _ in range(range_of_elements)]\n",
    "    output_arr = [0 for _ in range(len(arr))]\n",
    " \n",
    "    # Store count of each character\n",
    "    for i in range(0, len(arr)):\n",
    "        count_arr[arr[i]-min_element] += 1\n",
    " \n",
    "    # Change count_arr[i] so that count_arr[i] now contains actual\n",
    "    # position of this element in output array\n",
    "    for i in range(1, len(count_arr)):\n",
    "        count_arr[i] += count_arr[i-1]\n",
    " \n",
    "    # Build the output character array\n",
    "    for i in range(len(arr)-1, -1, -1):\n",
    "        output_arr[count_arr[arr[i] - min_element] - 1] = arr[i]\n",
    "        count_arr[arr[i] - min_element] -= 1\n",
    " \n",
    "    # Copy the output array to arr, so that arr now\n",
    "    # contains sorted characters\n",
    "    for i in range(0, len(arr)):\n",
    "        arr[i] = output_arr[i]\n",
    " \n",
    "    return arr"
   ]
  },
  {
   "cell_type": "markdown",
   "metadata": {},
   "source": [
    "## Settings\n",
    "The python code was input to a jupyter notebook as the runtime on the code was 544 minutes for n=100000\n"
   ]
  },
  {
   "cell_type": "code",
   "execution_count": 69,
   "metadata": {},
   "outputs": [],
   "source": [
    "# Setting for application \n",
    "# Variable test size of n required for testing application \n",
    "#Nsizes = [100,250,500,750,1000,1250,2500,3750,5000,6250,7500,8750,10000,50000,100000]\n",
    "Nsizes = [100,250,500,750,1000,1250,2500,3750,5000,6250,7500,8750,10000]\n",
    "#Nsizes = [100,250,500,750,1000,1250,2500,3750,5000,6250,7500]\n",
    "#Nsizes = [100,250,500,750,1000,1250,2500,3750,5000]\n",
    "#Nsizes = [100,250,500,750,1000,1250,2500]\n",
    "#Nsizes = [100,250,500,750]\n",
    "\n",
    "# Selection for each algorythm \n",
    "algos = [bubblesort, selection_sort, insertion_sort, mergesort, count_sort]\n",
    "\n",
    "# dictionary for storing times\n",
    "a_dict = {}"
   ]
  },
  {
   "cell_type": "markdown",
   "metadata": {},
   "source": [
    "## Benchmarking\n",
    "### Timer code and random array\n",
    "This code was a adapted from 1.2.2 Python of the CTA Project Specification pdf [8]. The notable difference is the use of numpy to generate the random array. "
   ]
  },
  {
   "cell_type": "code",
   "execution_count": 70,
   "metadata": {},
   "outputs": [],
   "source": [
    "# Create a timer using a while loop\n",
    "def timer(x,y):\n",
    "    # Set i to 0\n",
    "    i = 0\n",
    "    # Set total time to 0\n",
    "    totaltime = 0\n",
    "    \n",
    "    # Begin 10 runs for algorithm\n",
    "    # While i is less than 10\n",
    "    while i < 10:\n",
    "        # Create a random array \n",
    "        #getarray = random.randint(100, size=(x))\n",
    "        # Create a second array to test larger range of number\n",
    "        getarray = random.randint(100000, size=(x))\n",
    "        # Extracted from CTA Project Specification\n",
    "        # Start time\n",
    "        start_time = time.time()\n",
    "        # call your function\n",
    "        y(getarray)\n",
    "        # End time\n",
    "        end_time = time.time()\n",
    "        # Get time for 1 run in milliseconds\n",
    "        time_elapsed = (end_time - start_time)*1000\n",
    "        # Add 1 run to totaltime\n",
    "        totaltime = totaltime + time_elapsed\n",
    "        # Increase i by 1 \n",
    "        i = i + 1\n",
    "    # get the averge time by dividing all runs by 10\n",
    "    getavgtime = totaltime/10\n",
    "    return getavgtime"
   ]
  },
  {
   "cell_type": "markdown",
   "metadata": {},
   "source": [
    "### Loop\n",
    "This loop allowed to select all the combination of the n size array and type of sorting algorythms to be run and save to a dictionary"
   ]
  },
  {
   "cell_type": "code",
   "execution_count": 71,
   "metadata": {},
   "outputs": [],
   "source": [
    "# https://www.oreilly.com/library/view/python-cookbook/0596001673/ch01s15.html\n",
    "# This iterates over list b for every element in a. These elements are put into a tuple (x, y). \n",
    "# Then iterate through the resulting list of tuples in the outermost for loop.\n",
    "for x, y in [(x,y) for x in Nsizes for y in algos]:\n",
    "    timed = timer(x,y)\n",
    "    # insert data into dictionary\n",
    "    # Append value if key is available\n",
    "    if x in a_dict:\n",
    "        a_dict[x].append(timed)\n",
    "    else:\n",
    "        a_dict[x] = [timed]\n"
   ]
  },
  {
   "cell_type": "markdown",
   "metadata": {},
   "source": [
    "# Pandas\n",
    "### Pandas Dataframe Part 1\n",
    "Create a blank pandas dataframe and index"
   ]
  },
  {
   "cell_type": "code",
   "execution_count": 72,
   "metadata": {},
   "outputs": [
    {
     "data": {
      "text/html": [
       "<div>\n",
       "<style scoped>\n",
       "    .dataframe tbody tr th:only-of-type {\n",
       "        vertical-align: middle;\n",
       "    }\n",
       "\n",
       "    .dataframe tbody tr th {\n",
       "        vertical-align: top;\n",
       "    }\n",
       "\n",
       "    .dataframe thead th {\n",
       "        text-align: right;\n",
       "    }\n",
       "</style>\n",
       "<table border=\"1\" class=\"dataframe\">\n",
       "  <thead>\n",
       "    <tr style=\"text-align: right;\">\n",
       "      <th></th>\n",
       "    </tr>\n",
       "  </thead>\n",
       "  <tbody>\n",
       "    <tr>\n",
       "      <th>Bubble Sort</th>\n",
       "    </tr>\n",
       "    <tr>\n",
       "      <th>Selection Sort</th>\n",
       "    </tr>\n",
       "    <tr>\n",
       "      <th>Insertion Sort</th>\n",
       "    </tr>\n",
       "    <tr>\n",
       "      <th>Merge Sort</th>\n",
       "    </tr>\n",
       "    <tr>\n",
       "      <th>Count Sort</th>\n",
       "    </tr>\n",
       "  </tbody>\n",
       "</table>\n",
       "</div>"
      ],
      "text/plain": [
       "Empty DataFrame\n",
       "Columns: []\n",
       "Index: [Bubble Sort, Selection Sort, Insertion Sort, Merge Sort, Count Sort]"
      ]
     },
     "execution_count": 72,
     "metadata": {},
     "output_type": "execute_result"
    }
   ],
   "source": [
    "# Create Pandas Dataframe\n",
    "data = []\n",
    "# Name indexes\n",
    "df = pd.DataFrame((data),index=['Bubble Sort', 'Selection Sort', 'Insertion Sort', 'Merge Sort', 'Count Sort'])\n",
    "# Output Pandas Dataframe \n",
    "df"
   ]
  },
  {
   "cell_type": "markdown",
   "metadata": {},
   "source": [
    "### Pandas Dataframe Part 2\n",
    "Copy dictionary of data into pandas dataframe"
   ]
  },
  {
   "cell_type": "code",
   "execution_count": 73,
   "metadata": {},
   "outputs": [],
   "source": [
    "# Insert data from dictionary into Pandas dataframe\n",
    "for x in Nsizes:\n",
    "    insert = a_dict[x]\n",
    "    df[x] = insert"
   ]
  },
  {
   "cell_type": "markdown",
   "metadata": {},
   "source": [
    "### Pandas Dataframe Part 3\n",
    "Round data in Pandas Dataframe to 3 decimal points"
   ]
  },
  {
   "cell_type": "code",
   "execution_count": 74,
   "metadata": {},
   "outputs": [],
   "source": [
    "# Round Pandas data fram to 3 decimal places\n",
    "df = df.round(3)"
   ]
  },
  {
   "cell_type": "markdown",
   "metadata": {},
   "source": [
    "### Pandas Dataframe Part 4\n",
    "Output the results of the benchmarking"
   ]
  },
  {
   "cell_type": "code",
   "execution_count": 75,
   "metadata": {},
   "outputs": [
    {
     "data": {
      "text/html": [
       "<div>\n",
       "<style scoped>\n",
       "    .dataframe tbody tr th:only-of-type {\n",
       "        vertical-align: middle;\n",
       "    }\n",
       "\n",
       "    .dataframe tbody tr th {\n",
       "        vertical-align: top;\n",
       "    }\n",
       "\n",
       "    .dataframe thead th {\n",
       "        text-align: right;\n",
       "    }\n",
       "</style>\n",
       "<table border=\"1\" class=\"dataframe\">\n",
       "  <thead>\n",
       "    <tr style=\"text-align: right;\">\n",
       "      <th></th>\n",
       "      <th>100</th>\n",
       "      <th>250</th>\n",
       "      <th>500</th>\n",
       "      <th>750</th>\n",
       "      <th>1000</th>\n",
       "      <th>1250</th>\n",
       "      <th>2500</th>\n",
       "      <th>3750</th>\n",
       "      <th>5000</th>\n",
       "      <th>6250</th>\n",
       "      <th>7500</th>\n",
       "      <th>8750</th>\n",
       "      <th>10000</th>\n",
       "    </tr>\n",
       "  </thead>\n",
       "  <tbody>\n",
       "    <tr>\n",
       "      <th>Bubble Sort</th>\n",
       "      <td>2.500</td>\n",
       "      <td>14.101</td>\n",
       "      <td>57.798</td>\n",
       "      <td>134.639</td>\n",
       "      <td>236.272</td>\n",
       "      <td>365.492</td>\n",
       "      <td>1476.499</td>\n",
       "      <td>3369.596</td>\n",
       "      <td>5912.256</td>\n",
       "      <td>9272.345</td>\n",
       "      <td>13795.078</td>\n",
       "      <td>18186.140</td>\n",
       "      <td>23876.229</td>\n",
       "    </tr>\n",
       "    <tr>\n",
       "      <th>Selection Sort</th>\n",
       "      <td>1.200</td>\n",
       "      <td>7.402</td>\n",
       "      <td>29.601</td>\n",
       "      <td>67.658</td>\n",
       "      <td>118.128</td>\n",
       "      <td>186.942</td>\n",
       "      <td>738.637</td>\n",
       "      <td>1666.270</td>\n",
       "      <td>2957.652</td>\n",
       "      <td>4625.845</td>\n",
       "      <td>6767.717</td>\n",
       "      <td>9061.130</td>\n",
       "      <td>11778.225</td>\n",
       "    </tr>\n",
       "    <tr>\n",
       "      <th>Insertion Sort</th>\n",
       "      <td>1.001</td>\n",
       "      <td>6.597</td>\n",
       "      <td>27.201</td>\n",
       "      <td>62.827</td>\n",
       "      <td>114.933</td>\n",
       "      <td>178.327</td>\n",
       "      <td>727.090</td>\n",
       "      <td>1652.653</td>\n",
       "      <td>2917.457</td>\n",
       "      <td>4632.351</td>\n",
       "      <td>6625.599</td>\n",
       "      <td>8995.003</td>\n",
       "      <td>11724.101</td>\n",
       "    </tr>\n",
       "    <tr>\n",
       "      <th>Merge Sort</th>\n",
       "      <td>0.499</td>\n",
       "      <td>1.303</td>\n",
       "      <td>2.800</td>\n",
       "      <td>4.700</td>\n",
       "      <td>6.499</td>\n",
       "      <td>8.504</td>\n",
       "      <td>18.325</td>\n",
       "      <td>28.002</td>\n",
       "      <td>38.206</td>\n",
       "      <td>51.499</td>\n",
       "      <td>60.526</td>\n",
       "      <td>71.797</td>\n",
       "      <td>83.016</td>\n",
       "    </tr>\n",
       "    <tr>\n",
       "      <th>Count Sort</th>\n",
       "      <td>16.398</td>\n",
       "      <td>16.799</td>\n",
       "      <td>19.001</td>\n",
       "      <td>19.499</td>\n",
       "      <td>19.229</td>\n",
       "      <td>20.999</td>\n",
       "      <td>23.498</td>\n",
       "      <td>26.398</td>\n",
       "      <td>27.600</td>\n",
       "      <td>31.298</td>\n",
       "      <td>33.798</td>\n",
       "      <td>34.704</td>\n",
       "      <td>37.402</td>\n",
       "    </tr>\n",
       "  </tbody>\n",
       "</table>\n",
       "</div>"
      ],
      "text/plain": [
       "                 100     250     500      750      1000     1250      2500   \\\n",
       "Bubble Sort      2.500  14.101  57.798  134.639  236.272  365.492  1476.499   \n",
       "Selection Sort   1.200   7.402  29.601   67.658  118.128  186.942   738.637   \n",
       "Insertion Sort   1.001   6.597  27.201   62.827  114.933  178.327   727.090   \n",
       "Merge Sort       0.499   1.303   2.800    4.700    6.499    8.504    18.325   \n",
       "Count Sort      16.398  16.799  19.001   19.499   19.229   20.999    23.498   \n",
       "\n",
       "                   3750      5000      6250       7500       8750       10000  \n",
       "Bubble Sort     3369.596  5912.256  9272.345  13795.078  18186.140  23876.229  \n",
       "Selection Sort  1666.270  2957.652  4625.845   6767.717   9061.130  11778.225  \n",
       "Insertion Sort  1652.653  2917.457  4632.351   6625.599   8995.003  11724.101  \n",
       "Merge Sort        28.002    38.206    51.499     60.526     71.797     83.016  \n",
       "Count Sort        26.398    27.600    31.298     33.798     34.704     37.402  "
      ]
     },
     "execution_count": 75,
     "metadata": {},
     "output_type": "execute_result"
    }
   ],
   "source": [
    "# Output Pandas Dataframe \n",
    "df"
   ]
  },
  {
   "cell_type": "markdown",
   "metadata": {},
   "source": [
    "### Pandas Dataframe Part 5\n",
    "Graph to summarise the results obtained\n",
    "This overlays all the results from each of the chosen sorting Algorithms\n",
    "\n",
    "- Bubble Sort\n",
    "- Selection Sort\n",
    "- Insertion Sort\n",
    "- Merge Sort\n",
    "- Count Sort"
   ]
  },
  {
   "cell_type": "code",
   "execution_count": 76,
   "metadata": {},
   "outputs": [
    {
     "data": {
      "text/plain": [
       "Text(0.5, 0, 'Input Sizes')"
      ]
     },
     "execution_count": 76,
     "metadata": {},
     "output_type": "execute_result"
    },
    {
     "data": {
      "image/png": "[encoded data removed]",
      "text/plain": [
       "<Figure size 1008x864 with 1 Axes>"
      ]
     },
     "metadata": {
      "needs_background": "light"
     },
     "output_type": "display_data"
    }
   ],
   "source": [
    "# https://pandas.pydata.org/pandas-docs/version/0.23/generated/pandas.DataFrame.plot.html [25]\n",
    "# Create a comparison plot for sorts\n",
    "ax = df.T.plot(figsize=(14, 12), marker='x')\n",
    "# Label graphs\n",
    "ax.set_ylabel('Average time for 10 runs for each algorithm', fontsize=12)\n",
    "ax.set_xlabel('Input Sizes', fontsize=12)"
   ]
  },
  {
   "cell_type": "markdown",
   "metadata": {},
   "source": [
    "### Pandas Dataframe Part 6\n",
    "Graph to summarise the results obtained\n",
    "This outputs individual graphs for each of the chosen sorting Algorithms\n",
    "\n",
    "- Bubble Sort\n",
    "- Selection Sort\n",
    "- Insertion Sort\n",
    "- Merge Sort\n",
    "- Count Sort"
   ]
  },
  {
   "cell_type": "code",
   "execution_count": 77,
   "metadata": {},
   "outputs": [
    {
     "data": {
      "image/png": "[encoded data removed]",
      "text/plain": [
       "<Figure size 1008x864 with 5 Axes>"
      ]
     },
     "metadata": {
      "needs_background": "light"
     },
     "output_type": "display_data"
    }
   ],
   "source": [
    "# https://pandas.pydata.org/docs/reference/api/pandas.DataFrame.plot.line.html [26]\n",
    "# Create a indidviual plot for each sort\n",
    "axes = df.T.plot(figsize=(14, 12), marker='x', subplots=True)"
   ]
  },
  {
   "cell_type": "markdown",
   "metadata": {},
   "source": [
    "# References\n",
    "[1] Mannion, P., 2022. Sorting Algorithms Part 1\n",
    "\n",
    "[2] John D. Cook | Applied Mathematics Consulting. 2022. Sorting. [online] Available at: <https://www.johndcook.com/blog/2011/07/04/sorting/>\n",
    "\n",
    "[3] square, P. and Parikh, J., 2022. Python for loops program with square. [online] Stack Overflow. Available at: <https://stackoverflow.com/questions/41876325/python-for-loops-program-with-square> \n",
    "\n",
    "[4] Studytonight.com. 2022. Time Complexity of Algorithms | Studytonight. [online] Available at: <https://www.studytonight.com/data-structures/time-complexity-of-algorithms> \n",
    "\n",
    "[5] Mannion, P., 2022. Sorting Algorithms Part 2\n",
    "\n",
    "[6] GeeksforGeeks. 2022. In-Place Algorithm - GeeksforGeeks. [online] Available at: <https://www.geeksforgeeks.org/in-place-algorithm/> \n",
    "\n",
    "[7] Mannion, P., 2022. Sorting Algorithms Part 3\n",
    "\n",
    "[8] Mannion, P., 2022. CTA_Project.\n",
    "\n",
    "[9] Simplilearn.com. 2022. Time and Space complexity of Bubble Sort [online] Available at: <https://www.simplilearn.com/tutorials/data-structure-tutorial/bubble-sort-algorithm> \n",
    "\n",
    "[10]GeeksforGeeks. 2022. Merge Sort - GeeksforGeeks. [online] Available at: <https://www.geeksforgeeks.org/merge-sort/> \n",
    "\n",
    "[11]Opengenus.org. 2022 . Time & Space Complexity of Merge Sort. [online] Available at: <https://iq.opengenus.org/time-complexity-of-merge-sort/>\n",
    "\n",
    "[12]Studytonight.com. 2022. Merge Sort Algorithm | Studytonight. [online] Available at: <https://www.studytonight.com/data-structures/merge-sort> \n",
    "\n",
    "[13]GeeksforGeeks. 2022. Counting Sort - GeeksforGeeks. [online] Available at: <https://www.geeksforgeeks.org/counting-sort/> \n",
    "\n",
    "[14]Opengenus.org. 2022 . Time & Space Complexity of Counting Sort. [online] Available at: <https://iq.opengenus.org/time-and-space-complexity-of-counting-sort/>\n",
    "\n",
    "[15]GeeksforGeeks. 2022. Selection Sort - GeeksforGeeks. [online] Available at: <https://www.geeksforgeeks.org/stable-selection-sort/?ref=gcse> \n",
    "\n",
    "[16]Opengenus.org. 2022 . Time & Space Complexity of Selection Sort. [online] Available at: <https://iq.opengenus.org/time-complexity-of-selection-sort/>\n",
    "\n",
    "[17]GeeksforGeeks. 2022. Insertion Sort - GeeksforGeeks. [online] Available at: <https://www.geeksforgeeks.org/insertion-sort/> \n",
    "\n",
    "[18]Opengenus.org. 2022 . Time & Space Complexity of Insertion Sort. [online] Available at: <https://iq.opengenus.org/insertion-sort-analysis/>\n",
    "\n",
    "[19] O’Reilly Online Learning. 2022. Python Cookbook. [online] Available at: <https://www.oreilly.com/library/view/python-cookbook/0596001673/ch01s15.html> \n",
    "\n",
    "[20] GeeksforGeeks. 2022. Python Program for Bubble Sort - GeeksforGeeks. [online] Available at: <https://www.geeksforgeeks.org/python-program-for-bubble-sort/> \n",
    "\n",
    "[21] GeeksforGeeks. 2022. Iterative Merge Sort - GeeksforGeeks. [online] Available at: <https://www.geeksforgeeks.org/iterative-merge-sort/> \n",
    "\n",
    "[22] GeeksforGeeks. 2022. Counting Sort - GeeksforGeeks. [online] Available at: <https://www.geeksforgeeks.org/counting-sort/> \n",
    "\n",
    "[23]Runestone.academy. 2022. 6.8. The Selection Sort — Problem Solving with Algorithms and Data Structures 3rd edition. [online] Available at: <https://runestone.academy/ns/books/published/pythonds3/SortSearch/TheSelectionSort.html> \n",
    "\n",
    "[24] Runestone.academy. 2022. 6.9. The Insertion Sort — Problem Solving with Algorithms and Data Structures 3rd edition. [online] Available at: <https://runestone.academy/ns/books/published/pythonds3/SortSearch/TheInsertionSort.html> \n",
    "\n",
    "[25]Pandas.pydata.org. 2022. pandas.DataFrame.plot — pandas 0.23.1 documentation. [online] Available at: <https://pandas.pydata.org/pandas-docs/version/0.23/generated/pandas.DataFrame.plot.html> \n",
    "\n",
    "[26]Pandas.pydata.org. 2022. pandas.DataFrame.plot.line — pandas 1.4.2 documentation. [online] Available at: <https://pandas.pydata.org/docs/reference/api/pandas.DataFrame.plot.line.html> "
   ]
  }
 ],
 "metadata": {
  "interpreter": {
   "hash": "ad2bdc8ecc057115af97d19610ffacc2b4e99fae6737bb82f5d7fb13d2f2c186"
  },
  "kernelspec": {
   "display_name": "Python 3.8.8 ('base')",
   "language": "python",
   "name": "python3"
  },
  "language_info": {
   "codemirror_mode": {
    "name": "ipython",
    "version": 3
   },
   "file_extension": ".py",
   "mimetype": "text/x-python",
   "name": "python",
   "nbconvert_exporter": "python",
   "pygments_lexer": "ipython3",
   "version": "3.8.8"
  },
  "orig_nbformat": 4
 },
 "nbformat": 4,
 "nbformat_minor": 2
}
