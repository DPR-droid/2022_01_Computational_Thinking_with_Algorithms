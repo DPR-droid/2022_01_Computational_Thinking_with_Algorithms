{
 "cells": [
  {
   "cell_type": "markdown",
   "metadata": {},
   "source": [
    "# CTA Project\n",
    "# Benchmarking Sorting Algorithms\n",
    "# Implementation & Benchmarking\n",
    "\n",
    "Imports to run Jupyter Notebook, referenced in requirments.txt\n"
   ]
  },
  {
   "cell_type": "code",
   "execution_count": 46,
   "metadata": {},
   "outputs": [],
   "source": [
    "import time\n",
    "from numpy import random\n",
    "import pandas as pd\n",
    "import warnings\n",
    "warnings.filterwarnings('ignore')"
   ]
  },
  {
   "cell_type": "markdown",
   "metadata": {},
   "source": [
    "## Bubble Sort as a simple comparison-based sort.\n",
    "\n",
    "Bubble Sort is a comparison based sort which compares two elements, swapping them and continue until the they are in the correct order. The name comes from how the highest number bubbles up to the top as the largest element is repeatedly compared to the neighbour on the right and swapped.\n",
    "\n",
    "### Space complexity [9]\n",
    "O(1)  The algorithm only requires using a temporary variable while swapping the largest element\n",
    "\n",
    " \n",
    "### Time complexities [9]\n",
    "Worst Case Time Complexity of Bubble Sort is O(N^2) \n",
    "\n",
    "- This is the case when the array is reversely sort\n",
    "\n",
    "Best Case Time Complexity of Bubble Sort is O(N)\n",
    "\n",
    "- This case occurs when the given array is already sorted.\n",
    "\n",
    "Average Case Time Complexity of Bubble Sort is O(N^2) \n",
    "\n",
    "- The number of comparisons is constant in Bubble Sort so in average case, there is O(N^2) comparisons. "
   ]
  },
  {
   "cell_type": "code",
   "execution_count": 47,
   "metadata": {},
   "outputs": [],
   "source": [
    "# Bubble Sort\n",
    "# https://www.geeksforgeeks.org/python-program-for-bubble-sort/\n",
    "\n",
    "def bubblesort(elements):\n",
    "  # Looping n-1 times\n",
    "  for n in range(len(elements)-1, 0, -1):\n",
    "    # Loop is short 1 each time as the other eleement is sorted\n",
    "    for i in range(n):\n",
    "      # Comparing each element  with the element beside \n",
    "      if elements[i] > elements[i + 1]:\n",
    "        # Swapping out of order with the largest element to the right\n",
    "        elements[i], elements[i + 1] = elements[i + 1], elements[i]\n",
    "  return elements\n",
    "  "
   ]
  },
  {
   "cell_type": "markdown",
   "metadata": {},
   "source": [
    "## Selection Sort as a simple comparison-based sort.\n",
    "A Selection Sort essentially finds the minimum element in an array and inserting it into it position with the element in it place. [15]\n",
    "\n",
    "### Space complexity [16]\n",
    "O(1) Similar to bubble sort the algorithm only requires using a temporary variable for the to hold an element in the array while swapping the elements\n",
    "\n",
    " \n",
    "### Time complexities [16]\n",
    "Worst Case Time Complexity of Selection Sort is O(N^2) \n",
    "\n",
    "- This is the case if the given array is sorted except for the last element is the smallest\n",
    "\n",
    "Best Case Time Complexity of Selection Sort is O(N^2)\n",
    "\n",
    "- This case occurs when the given array is already sorted.\n",
    "\n",
    "Average Case Time Complexity of Selection Sort is O(N^2) \n",
    "\n",
    "- The number of comparisons is constant in Selection Sort so in average case, there is O(N^2) comparisons. "
   ]
  },
  {
   "cell_type": "code",
   "execution_count": 48,
   "metadata": {},
   "outputs": [],
   "source": [
    "# Computational Thinking with Algorithms - Week 8 - Sorting Algorithms Part 2\n",
    "# https://runestone.academy/ns/books/published/pythonds3/SortSearch/TheSelectionSort.html\n",
    "# Selection Sort\n",
    "\n",
    "def selection_sort(arr):\n",
    "    # Get Lenght of array\n",
    "    n = len(arr)\n",
    "    for outer in range(0,n,1):\n",
    "        # Find postion for mimimum element \n",
    "        min = outer\n",
    "        for inner in range(outer+1,n,1):\n",
    "            # Find minimum element\n",
    "            if arr[inner] < arr[min]:\n",
    "                min = inner\n",
    "        # Swap out element to temporary\n",
    "        temp = arr[outer]\n",
    "        # Swap lowest eleemnt in into it's correct postion \n",
    "        arr[outer] = arr[min]\n",
    "        # Swap temporary to lowest element orginal postion  \n",
    "        arr[min] = temp\n",
    "    return arr"
   ]
  },
  {
   "cell_type": "markdown",
   "metadata": {},
   "source": [
    "## Insertion Sort as a simple comparison-based sort.\n",
    "An Insertion Sort compare each pair in if the minimum element in an array is found it inserts that element into the correct position. [17]\n",
    "\n",
    "### Space complexity [18]\n",
    "O(1) Similar to Bubble sort and Selection sort the algorithm only requires space by shifting the element to right and insert the element at the appropriate position.\n",
    "\n",
    " \n",
    "### Time complexities [18]\n",
    "Worst Case Time Complexity of Insertion Sort is O(N^2) \n",
    "\n",
    "- This is the case if the array is reversely sorted\n",
    "\n",
    "Best Case Time Complexity of Insertion Sort is O(N)\n",
    "\n",
    "- This case occurs when the given array is already sorted.\n",
    "\n",
    "Average Case Time Complexity of Insertion Sort is O(N^2) \n",
    "\n",
    "- The number of comparisons is constant in Insertion Sort so in average case, there is O(N^2) comparisons. "
   ]
  },
  {
   "cell_type": "code",
   "execution_count": 49,
   "metadata": {},
   "outputs": [],
   "source": [
    "# Insertion Sort\n",
    "# https://runestone.academy/ns/books/published/pythonds3/SortSearch/TheInsertionSort.html\n",
    "\n",
    "def insertion_sort(a_list):\n",
    "    for i in range(1, len(a_list)):\n",
    "        cur_val = a_list[i]\n",
    "        cur_pos = i\n",
    "\n",
    "        while cur_pos > 0 and a_list[cur_pos - 1] > cur_val:\n",
    "            a_list[cur_pos] = a_list[cur_pos - 1]\n",
    "            cur_pos = cur_pos - 1\n",
    "        a_list[cur_pos] = cur_val"
   ]
  },
  {
   "cell_type": "markdown",
   "metadata": {},
   "source": [
    "## Merge Sort as an efficient comparison-based sort \n",
    "Merge Sort is a recursive divide-and-conquer approach by diving the index into to halves and sub dividing, until the elements can be easily solved and then merge the results [10]. To visualise the diagram shows the index split into sub indexes  [2,4] [20] [1,19]\n",
    "\n",
    "### Space complexity [11]\n",
    "O(N) as N is the space required number of elements in the index, this is divided and stored for the total space and merging back to a single array.  \n",
    " \n",
    "### Time complexities [12]\n",
    "Merge Sort is O(n*Log n) in all the 3 cases (worst, average and best) as merge sort always divides the array in two halves and takes linear time to merge two halves."
   ]
  },
  {
   "cell_type": "code",
   "execution_count": 50,
   "metadata": {},
   "outputs": [],
   "source": [
    "# Merge Sort\n",
    "# https://www.geeksforgeeks.org/iterative-merge-sort/\n",
    " \n",
    "def merge(left, right):\n",
    "    # Check either array is empty\n",
    "    if not len(left) or not len(right):\n",
    "        return left or right\n",
    "    # Setting for while loop\n",
    "    # Result set as list\n",
    "    result = []\n",
    "    # Set i and j to zero\n",
    "    i, j = 0, 0\n",
    "    while (len(result) < len(left) + len(right)):\n",
    "        # If element of left array less-than element of right array\n",
    "        if left[i] < right[j]:\n",
    "            # append the left element to result list\n",
    "            result.append(left[i])\n",
    "            # increase i by 1\n",
    "            i+= 1\n",
    "        else:\n",
    "            # Else append the right element to result list\n",
    "            result.append(right[j])\n",
    "            # increase j by 1\n",
    "            j+= 1\n",
    "        if i == len(left) or j == len(right):\n",
    "            # if i or j is equal to the lenght of the left or right array\n",
    "            # adds all the elements to the array\n",
    "            result.extend(left[i:] or right[j:])\n",
    "            break\n",
    "    # Return results\n",
    "    return result\n",
    " \n",
    "def mergesort(list):\n",
    "    # Check lenght of list has more than 1 element \n",
    "    if len(list) < 2:\n",
    "        return list\n",
    "    # Divide the list into 2 arrays\n",
    "    middle = int(len(list)/2)\n",
    "    # Set arrays into left and right\n",
    "    left = mergesort(list[:middle])\n",
    "    right = mergesort(list[middle:])\n",
    "    # Send to merge function\n",
    "    return merge(left, right)"
   ]
  },
  {
   "cell_type": "markdown",
   "metadata": {},
   "source": [
    "## Counting Sort as a non-comparison sort\n",
    "A Counting Sort is a non comparison based algorithm based on keys in a range. It counts the number of elements with distinct value. The distinct value is held in a temporary array and uses that to sorting the input array [13] please see diagram below\n",
    "\n",
    "### Space complexity [14]\n",
    "O(K)  as an auxiliary array is created to the size of k, k in the example is 20 there for the auxiliary array is size of 20 with only 5 elements (Example 7) on the input array or create an auxiliary array of 3 if range is between input is between 1-3 with 5 elements (Example 8). This indicates that space complexity is not great for a wide range of integers as the auxiliary array of that size required to be created. \n",
    " \n",
    "### Time complexities [9]\n",
    "O(n+k) range k of the elements is significantly larger than the other elements deepening on the range of elements, Comparing example 7 with 40 steps and example 8 with 23 steps"
   ]
  },
  {
   "cell_type": "code",
   "execution_count": 51,
   "metadata": {},
   "outputs": [],
   "source": [
    "# Counting sort\n",
    "# https://www.geeksforgeeks.org/counting-sort/\n",
    "\n",
    "def count_sort(arr):\n",
    "    max_element = int(max(arr))\n",
    "    min_element = int(min(arr))\n",
    "    range_of_elements = max_element - min_element + 1\n",
    "    # Create a count array to store count of individual\n",
    "    # elements and initialize count array as 0\n",
    "    count_arr = [0 for _ in range(range_of_elements)]\n",
    "    output_arr = [0 for _ in range(len(arr))]\n",
    " \n",
    "    # Store count of each character\n",
    "    for i in range(0, len(arr)):\n",
    "        count_arr[arr[i]-min_element] += 1\n",
    " \n",
    "    # Change count_arr[i] so that count_arr[i] now contains actual\n",
    "    # position of this element in output array\n",
    "    for i in range(1, len(count_arr)):\n",
    "        count_arr[i] += count_arr[i-1]\n",
    " \n",
    "    # Build the output character array\n",
    "    for i in range(len(arr)-1, -1, -1):\n",
    "        output_arr[count_arr[arr[i] - min_element] - 1] = arr[i]\n",
    "        count_arr[arr[i] - min_element] -= 1\n",
    " \n",
    "    # Copy the output array to arr, so that arr now\n",
    "    # contains sorted characters\n",
    "    for i in range(0, len(arr)):\n",
    "        arr[i] = output_arr[i]\n",
    " \n",
    "    return arr"
   ]
  },
  {
   "cell_type": "markdown",
   "metadata": {},
   "source": [
    "## Settings\n",
    "The python code was input to a jupyter notebook as the runtime on the code was 544 minutes for n=100000\n"
   ]
  },
  {
   "cell_type": "code",
   "execution_count": 52,
   "metadata": {},
   "outputs": [],
   "source": [
    "# Setting for application \n",
    "# Variable test size of n required for testing application \n",
    "Nsizes = [100,250,500,750,1000,1250,2500,3750,5000,6250,7500,8750,10000,50000,100000]\n",
    "#Nsizes = [100,250,500,750,1000,1250,2500,3750,5000,6250,7500,8750,10000]\n",
    "#Nsizes = [100,250,500,750,1000,1250,2500,3750,5000,6250,7500]\n",
    "#Nsizes = [100,250,500,750,1000,1250,2500,3750,5000]\n",
    "#Nsizes = [100,250,500,750,1000,1250,2500]\n",
    "#Nsizes = [100,250,500,750]\n",
    "\n",
    "# Selection for each algorythm \n",
    "algos = [bubblesort, selection_sort, insertion_sort, mergesort, count_sort]\n",
    "\n",
    "# dictionary for storing times\n",
    "a_dict = {}"
   ]
  },
  {
   "cell_type": "markdown",
   "metadata": {},
   "source": [
    "## Timer code and random array\n",
    "This code was a adapted from 1.2.2 Python of the CTA Project Specification pdf [8]. The notable difference is the use of numpy to generate the random array. "
   ]
  },
  {
   "cell_type": "code",
   "execution_count": 53,
   "metadata": {},
   "outputs": [],
   "source": [
    "# Create a timer using a while loop\n",
    "def timer(x,y):\n",
    "    # Set i to 0\n",
    "    i = 0\n",
    "    # Set total time to 0\n",
    "    totaltime = 0\n",
    "    # Create a random array \n",
    "    getarray = random.randint(100, size=(x))\n",
    "    # Create a second array to test larger range of number\n",
    "    #getarray = random.randint(100000, size=(x))\n",
    "    # Begin 10 runs for algorithm\n",
    "    # While i is less than 10\n",
    "    while i < 10:\n",
    "        # Extracted from CTA Project Specification\n",
    "        # Start time\n",
    "        start_time = time.time()\n",
    "        # call your function\n",
    "        y(getarray)\n",
    "        # End time\n",
    "        end_time = time.time()\n",
    "        # Get time for 1 run in milliseconds\n",
    "        time_elapsed = (end_time - start_time)*1000\n",
    "        # Add 1 run to totaltime\n",
    "        totaltime = totaltime + time_elapsed\n",
    "        # Increase i by 1 \n",
    "        i = i + 1\n",
    "    # get the averge time by dividing all runs by 10\n",
    "    getavgtime = totaltime/10\n",
    "    return getavgtime"
   ]
  },
  {
   "cell_type": "markdown",
   "metadata": {},
   "source": [
    "### Loop\n",
    "This loop allowed to select all the combination of the n size array and type of sorting algorythms to be run and save to a dictionary"
   ]
  },
  {
   "cell_type": "code",
   "execution_count": 54,
   "metadata": {},
   "outputs": [],
   "source": [
    "# https://www.oreilly.com/library/view/python-cookbook/0596001673/ch01s15.html\n",
    "# This iterates over list b for every element in a. These elements are put into a tuple (x, y). \n",
    "# Then iterate through the resulting list of tuples in the outermost for loop.\n",
    "for x, y in [(x,y) for x in Nsizes for y in algos]:\n",
    "    timed = timer(x,y)\n",
    "    # insert data into dictionary\n",
    "    # Append value if key is available\n",
    "    if x in a_dict:\n",
    "        a_dict[x].append(timed)\n",
    "    else:\n",
    "        a_dict[x] = [timed]\n"
   ]
  },
  {
   "cell_type": "markdown",
   "metadata": {},
   "source": [
    "### Pandas Dataframe Part 1\n",
    "Create a blank pandas dataframe and index"
   ]
  },
  {
   "cell_type": "code",
   "execution_count": 55,
   "metadata": {},
   "outputs": [
    {
     "data": {
      "text/html": [
       "<div>\n",
       "<style scoped>\n",
       "    .dataframe tbody tr th:only-of-type {\n",
       "        vertical-align: middle;\n",
       "    }\n",
       "\n",
       "    .dataframe tbody tr th {\n",
       "        vertical-align: top;\n",
       "    }\n",
       "\n",
       "    .dataframe thead th {\n",
       "        text-align: right;\n",
       "    }\n",
       "</style>\n",
       "<table border=\"1\" class=\"dataframe\">\n",
       "  <thead>\n",
       "    <tr style=\"text-align: right;\">\n",
       "      <th></th>\n",
       "    </tr>\n",
       "  </thead>\n",
       "  <tbody>\n",
       "    <tr>\n",
       "      <th>Bubble Sort</th>\n",
       "    </tr>\n",
       "    <tr>\n",
       "      <th>Selection Sort</th>\n",
       "    </tr>\n",
       "    <tr>\n",
       "      <th>Insertion Sort</th>\n",
       "    </tr>\n",
       "    <tr>\n",
       "      <th>Merge Sort</th>\n",
       "    </tr>\n",
       "    <tr>\n",
       "      <th>Count Sort</th>\n",
       "    </tr>\n",
       "  </tbody>\n",
       "</table>\n",
       "</div>"
      ],
      "text/plain": [
       "Empty DataFrame\n",
       "Columns: []\n",
       "Index: [Bubble Sort, Selection Sort, Insertion Sort, Merge Sort, Count Sort]"
      ]
     },
     "execution_count": 55,
     "metadata": {},
     "output_type": "execute_result"
    }
   ],
   "source": [
    "# Create Pandas Dataframe\n",
    "data = []\n",
    "# Name indexes\n",
    "df = pd.DataFrame((data),index=['Bubble Sort', 'Selection Sort', 'Insertion Sort', 'Merge Sort', 'Count Sort'])\n",
    "# Output Pandas Dataframe \n",
    "df"
   ]
  },
  {
   "cell_type": "markdown",
   "metadata": {},
   "source": [
    "### Pandas Dataframe Part 2\n",
    "Copy dictionary of data into pandas dataframe"
   ]
  },
  {
   "cell_type": "code",
   "execution_count": 56,
   "metadata": {},
   "outputs": [],
   "source": [
    "# Insert data from dictionary into Pandas dataframe\n",
    "for x in Nsizes:\n",
    "    insert = a_dict[x]\n",
    "    df[x] = insert"
   ]
  },
  {
   "cell_type": "markdown",
   "metadata": {},
   "source": [
    "### Pandas Dataframe Part 3\n",
    "Round data in Pandas Dataframe to 3 decimal points"
   ]
  },
  {
   "cell_type": "code",
   "execution_count": 57,
   "metadata": {},
   "outputs": [],
   "source": [
    "# Round Pandas data fram to 3 decimal places\n",
    "df = df.round(3)"
   ]
  },
  {
   "cell_type": "markdown",
   "metadata": {},
   "source": [
    "### Pandas Dataframe Part 4\n",
    "Output the results of the benchmarking"
   ]
  },
  {
   "cell_type": "code",
   "execution_count": 58,
   "metadata": {},
   "outputs": [
    {
     "data": {
      "text/html": [
       "<div>\n",
       "<style scoped>\n",
       "    .dataframe tbody tr th:only-of-type {\n",
       "        vertical-align: middle;\n",
       "    }\n",
       "\n",
       "    .dataframe tbody tr th {\n",
       "        vertical-align: top;\n",
       "    }\n",
       "\n",
       "    .dataframe thead th {\n",
       "        text-align: right;\n",
       "    }\n",
       "</style>\n",
       "<table border=\"1\" class=\"dataframe\">\n",
       "  <thead>\n",
       "    <tr style=\"text-align: right;\">\n",
       "      <th></th>\n",
       "      <th>100</th>\n",
       "      <th>250</th>\n",
       "      <th>500</th>\n",
       "      <th>750</th>\n",
       "      <th>1000</th>\n",
       "      <th>1250</th>\n",
       "      <th>2500</th>\n",
       "      <th>3750</th>\n",
       "      <th>5000</th>\n",
       "      <th>6250</th>\n",
       "      <th>7500</th>\n",
       "      <th>8750</th>\n",
       "      <th>10000</th>\n",
       "    </tr>\n",
       "  </thead>\n",
       "  <tbody>\n",
       "    <tr>\n",
       "      <th>Bubble Sort</th>\n",
       "      <td>1.4</td>\n",
       "      <td>8.400</td>\n",
       "      <td>34.400</td>\n",
       "      <td>75.098</td>\n",
       "      <td>136.318</td>\n",
       "      <td>218.703</td>\n",
       "      <td>866.918</td>\n",
       "      <td>1917.286</td>\n",
       "      <td>3449.055</td>\n",
       "      <td>5273.678</td>\n",
       "      <td>7687.454</td>\n",
       "      <td>10446.915</td>\n",
       "      <td>14595.833</td>\n",
       "    </tr>\n",
       "    <tr>\n",
       "      <th>Selection Sort</th>\n",
       "      <td>1.2</td>\n",
       "      <td>7.500</td>\n",
       "      <td>29.300</td>\n",
       "      <td>65.299</td>\n",
       "      <td>117.500</td>\n",
       "      <td>189.730</td>\n",
       "      <td>731.483</td>\n",
       "      <td>1613.089</td>\n",
       "      <td>2944.549</td>\n",
       "      <td>4490.648</td>\n",
       "      <td>6490.612</td>\n",
       "      <td>8930.463</td>\n",
       "      <td>11965.342</td>\n",
       "    </tr>\n",
       "    <tr>\n",
       "      <th>Insertion Sort</th>\n",
       "      <td>0.1</td>\n",
       "      <td>0.700</td>\n",
       "      <td>2.800</td>\n",
       "      <td>6.300</td>\n",
       "      <td>11.200</td>\n",
       "      <td>17.898</td>\n",
       "      <td>70.799</td>\n",
       "      <td>152.831</td>\n",
       "      <td>286.382</td>\n",
       "      <td>441.901</td>\n",
       "      <td>654.847</td>\n",
       "      <td>872.770</td>\n",
       "      <td>1178.197</td>\n",
       "    </tr>\n",
       "    <tr>\n",
       "      <th>Merge Sort</th>\n",
       "      <td>0.5</td>\n",
       "      <td>1.299</td>\n",
       "      <td>2.603</td>\n",
       "      <td>4.500</td>\n",
       "      <td>6.300</td>\n",
       "      <td>8.202</td>\n",
       "      <td>18.198</td>\n",
       "      <td>27.706</td>\n",
       "      <td>37.500</td>\n",
       "      <td>47.900</td>\n",
       "      <td>58.706</td>\n",
       "      <td>69.698</td>\n",
       "      <td>83.101</td>\n",
       "    </tr>\n",
       "    <tr>\n",
       "      <th>Count Sort</th>\n",
       "      <td>16.5</td>\n",
       "      <td>16.401</td>\n",
       "      <td>18.400</td>\n",
       "      <td>18.901</td>\n",
       "      <td>19.800</td>\n",
       "      <td>20.399</td>\n",
       "      <td>22.600</td>\n",
       "      <td>25.603</td>\n",
       "      <td>26.197</td>\n",
       "      <td>29.599</td>\n",
       "      <td>31.423</td>\n",
       "      <td>33.001</td>\n",
       "      <td>35.034</td>\n",
       "    </tr>\n",
       "  </tbody>\n",
       "</table>\n",
       "</div>"
      ],
      "text/plain": [
       "                100     250     500     750      1000     1250     2500   \\\n",
       "Bubble Sort       1.4   8.400  34.400  75.098  136.318  218.703  866.918   \n",
       "Selection Sort    1.2   7.500  29.300  65.299  117.500  189.730  731.483   \n",
       "Insertion Sort    0.1   0.700   2.800   6.300   11.200   17.898   70.799   \n",
       "Merge Sort        0.5   1.299   2.603   4.500    6.300    8.202   18.198   \n",
       "Count Sort       16.5  16.401  18.400  18.901   19.800   20.399   22.600   \n",
       "\n",
       "                   3750      5000      6250      7500       8750       10000  \n",
       "Bubble Sort     1917.286  3449.055  5273.678  7687.454  10446.915  14595.833  \n",
       "Selection Sort  1613.089  2944.549  4490.648  6490.612   8930.463  11965.342  \n",
       "Insertion Sort   152.831   286.382   441.901   654.847    872.770   1178.197  \n",
       "Merge Sort        27.706    37.500    47.900    58.706     69.698     83.101  \n",
       "Count Sort        25.603    26.197    29.599    31.423     33.001     35.034  "
      ]
     },
     "execution_count": 58,
     "metadata": {},
     "output_type": "execute_result"
    }
   ],
   "source": [
    "# Output Pandas Dataframe \n",
    "df"
   ]
  },
  {
   "cell_type": "markdown",
   "metadata": {},
   "source": [
    "### Pandas Dataframe Part 5\n",
    "Graph to summarise the results obtained\n",
    "This overlays all the results from each of the chosen sorting Algorithms\n",
    "\n",
    "- Bubble Sort\n",
    "- Selection Sort\n",
    "- Insertion Sort\n",
    "- Merge Sort\n",
    "- Count Sort"
   ]
  },
  {
   "cell_type": "code",
   "execution_count": 59,
   "metadata": {},
   "outputs": [
    {
     "data": {
      "text/plain": [
       "Text(0.5, 0, 'Input Sizes')"
      ]
     },
     "execution_count": 59,
     "metadata": {},
     "output_type": "execute_result"
    },
    {
     "data": {
      "image/png": "[encoded data removed]",
      "text/plain": [
       "<Figure size 1008x864 with 1 Axes>"
      ]
     },
     "metadata": {
      "needs_background": "light"
     },
     "output_type": "display_data"
    }
   ],
   "source": [
    "# https://pandas.pydata.org/pandas-docs/version/0.23/generated/pandas.DataFrame.plot.html\n",
    "# Create a comparison plot for sorts\n",
    "ax = df.T.plot(figsize=(14, 12), marker='x')\n",
    "# Label graphs\n",
    "ax.set_ylabel('Average time for 10 runs for each algorithm', fontsize=12)\n",
    "ax.set_xlabel('Input Sizes', fontsize=12)"
   ]
  },
  {
   "cell_type": "markdown",
   "metadata": {},
   "source": [
    "### Pandas Dataframe Part 6\n",
    "Graph to summarise the results obtained\n",
    "This outputs individual graphs for each of the chosen sorting Algorithms\n",
    "\n",
    "- Bubble Sort\n",
    "- Selection Sort\n",
    "- Insertion Sort\n",
    "- Merge Sort\n",
    "- Count Sort"
   ]
  },
  {
   "cell_type": "code",
   "execution_count": 60,
   "metadata": {},
   "outputs": [
    {
     "data": {
      "image/png": "[encoded data removed]",
      "text/plain": [
       "<Figure size 1008x864 with 5 Axes>"
      ]
     },
     "metadata": {
      "needs_background": "light"
     },
     "output_type": "display_data"
    }
   ],
   "source": [
    "# https://pandas.pydata.org/docs/reference/api/pandas.DataFrame.plot.line.html\n",
    "# Create a indidviual plot for each sort\n",
    "axes = df.T.plot(figsize=(14, 12), marker='x', subplots=True)"
   ]
  },
  {
   "cell_type": "markdown",
   "metadata": {},
   "source": [
    "# References\n",
    "[1] Mannion, P., 2022. Sorting Algorithms Part 1\n",
    "\n",
    "[2] John D. Cook | Applied Mathematics Consulting. 2022. Sorting. [online] Available at: <https://www.johndcook.com/blog/2011/07/04/sorting/>\n",
    "\n",
    "[3] square, P. and Parikh, J., 2022. Python for loops program with square. [online] Stack Overflow. Available at: <https://stackoverflow.com/questions/41876325/python-for-loops-program-with-square> \n",
    "\n",
    "[4] Studytonight.com. 2022. Time Complexity of Algorithms | Studytonight. [online] Available at: <https://www.studytonight.com/data-structures/time-complexity-of-algorithms> \n",
    "\n",
    "[5] Mannion, P., 2022. Sorting Algorithms Part 2\n",
    "\n",
    "[6] GeeksforGeeks. 2022. In-Place Algorithm - GeeksforGeeks. [online] Available at: <https://www.geeksforgeeks.org/in-place-algorithm/> \n",
    "\n",
    "[7] Mannion, P., 2022. Sorting Algorithms Part 3\n",
    "\n",
    "[8] Mannion, P., 2022. CTA_Project.\n",
    "\n",
    "[9] Simplilearn.com. 2022. Time and Space complexity of Bubble Sort [online] Available at: <https://www.simplilearn.com/tutorials/data-structure-tutorial/bubble-sort-algorithm> \n",
    "\n",
    "[10]GeeksforGeeks. 2022. Merge Sort - GeeksforGeeks. [online] Available at: <https://www.geeksforgeeks.org/merge-sort/> \n",
    "\n",
    "[11]Opengenus.org. 2022 . Time & Space Complexity of Merge Sort. [online] Available at: <https://iq.opengenus.org/time-complexity-of-merge-sort/>\n",
    "\n",
    "[12]Studytonight.com. 2022. Merge Sort Algorithm | Studytonight. [online] Available at: <https://www.studytonight.com/data-structures/merge-sort> \n",
    "\n",
    "[13]GeeksforGeeks. 2022. Counting Sort - GeeksforGeeks. [online] Available at: <https://www.geeksforgeeks.org/counting-sort/> \n",
    "\n",
    "[14]Opengenus.org. 2022 . Time & Space Complexity of Counting Sort. [online] Available at: <https://iq.opengenus.org/time-and-space-complexity-of-counting-sort/>\n",
    "\n",
    "[15]GeeksforGeeks. 2022. Selection Sort - GeeksforGeeks. [online] Available at: <https://www.geeksforgeeks.org/stable-selection-sort/?ref=gcse> \n",
    "\n",
    "[16]Opengenus.org. 2022 . Time & Space Complexity of Selection Sort. [online] Available at: <https://iq.opengenus.org/time-complexity-of-selection-sort/>\n",
    "\n",
    "[17]GeeksforGeeks. 2022. Insertion Sort - GeeksforGeeks. [online] Available at: <https://www.geeksforgeeks.org/insertion-sort/> \n",
    "\n",
    "[18]Opengenus.org. 2022 . Time & Space Complexity of Insertion Sort. [online] Available at: <https://iq.opengenus.org/insertion-sort-analysis/>"
   ]
  }
 ],
 "metadata": {
  "interpreter": {
   "hash": "ad2bdc8ecc057115af97d19610ffacc2b4e99fae6737bb82f5d7fb13d2f2c186"
  },
  "kernelspec": {
   "display_name": "Python 3.8.8 ('base')",
   "language": "python",
   "name": "python3"
  },
  "language_info": {
   "codemirror_mode": {
    "name": "ipython",
    "version": 3
   },
   "file_extension": ".py",
   "mimetype": "text/x-python",
   "name": "python",
   "nbconvert_exporter": "python",
   "pygments_lexer": "ipython3",
   "version": "3.8.8"
  },
  "orig_nbformat": 4
 },
 "nbformat": 4,
 "nbformat_minor": 2
}
